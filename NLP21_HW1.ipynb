{
  "nbformat": 4,
  "nbformat_minor": 0,
  "metadata": {
    "colab": {
      "name": "NLP21-HW1.ipynb",
      "provenance": [],
      "collapsed_sections": [
        "YooOZ_NUg-xv",
        "pY3OQsc0_z6Z",
        "Qu7st5ZOW7Gb",
        "4YmuBkLxgu9y",
        "U4BGihL7N24a"
      ]
    },
    "kernelspec": {
      "display_name": "Python 3",
      "name": "python3"
    }
  },
  "cells": [
    {
      "cell_type": "code",
      "metadata": {
        "id": "cPoLvb9-Ej8R"
      },
      "source": [
        "#@title imports libraries { vertical-output: true, display-mode: \"both\" }\n",
        "# !pip install \"nltk==3.4.5\"\n",
        "import nltk\n",
        "from nltk.lm.preprocessing import padded_everygram_pipeline\n",
        "from nltk.lm import MLE\n",
        "from nltk.lm import Vocabulary\n",
        "import numpy as np\n",
        "from collections import Counter, defaultdict\n",
        "import matplotlib.pyplot as plt\n",
        "import matplotlib\n",
        "import math\n",
        "# nltk.download('punkt')"
      ],
      "execution_count": null,
      "outputs": []
    },
    {
      "cell_type": "code",
      "metadata": {
        "colab": {
          "base_uri": "https://localhost:8080/"
        },
        "id": "yNWRKcxUtjqY",
        "outputId": "a5150def-718b-42d1-9f2b-3a64978aaaf0"
      },
      "source": [
        "from google.colab import drive\n",
        "drive.mount('/content/drive')\n"
      ],
      "execution_count": null,
      "outputs": [
        {
          "output_type": "stream",
          "text": [
            "Mounted at /content/drive\n"
          ],
          "name": "stdout"
        }
      ]
    },
    {
      "cell_type": "markdown",
      "metadata": {
        "id": "W6ttlLFrsDeK"
      },
      "source": [
        "###**Part 1: Language Models.**\n",
        "\n",
        "1. Data Exploratin.\n",
        "    \n",
        "\n",
        "\n"
      ]
    },
    {
      "cell_type": "markdown",
      "metadata": {
        "id": "YooOZ_NUg-xv"
      },
      "source": [
        "##1. Gathering Basic Statistics."
      ]
    },
    {
      "cell_type": "code",
      "metadata": {
        "id": "PIEMg7Qxp3eI"
      },
      "source": [
        "path_data = \"/content/drive/My Drive/NLP/simple-examples/data/ptb.\"\n",
        "path_char_data = \"/content/drive/My Drive/NLP/simple-examples/data/ptb.char.\"\n",
        "def top_N(n, word_counter):\n",
        "  total_top_words = np.sum([freq for word, freq in word_counter.most_common(n)])\n",
        "  return total_top_words\n",
        "\n",
        "\n",
        "def token_type_ratio(word_counter):\n",
        "  total_freq = np.sum([freq for word, freq in word_counter.most_common()])\n",
        "  return total_freq / len(word_counter)\n",
        "\n",
        "\n",
        "def proccess_data(subname, opt=0):\n",
        "  word_data = open(path_data + subname + \".txt\" if opt==1 else subname + \".txt\" ).read()\n",
        "  char_data = open(path_char_data + subname + \".txt\" if opt==1 else subname + \".txt\").read()\n",
        "  sentences = word_data.split('\\n')\n",
        "  words = word_data.split()\n",
        "  chars = char_data.split()\n",
        "  word_counter = Counter(words)                     \n",
        "  distinct_words = len(word_counter)              # number of distinct words\n",
        "  ratio = token_type_ratio(word_counter)\n",
        "  word_set = set(words)                           # all the distinct words\n",
        "  return {\"sentences\": sentences , \"words_tok\":words, \"chars_tok\": chars, \"word_counter\": word_counter, \"word_set\": word_set, \"distinct_words\": distinct_words, \"ratio\": ratio}\n",
        "\n"
      ],
      "execution_count": null,
      "outputs": []
    },
    {
      "cell_type": "markdown",
      "metadata": {
        "id": "HK6e8RV3wc5M"
      },
      "source": [
        "now for each file (train, valid, test), we're going to gather some statistics.\n",
        "\n",
        "each dataset contains basic statistics that have been gathered above. \n",
        "\n"
      ]
    },
    {
      "cell_type": "code",
      "metadata": {
        "id": "McKP28QGwcRK"
      },
      "source": [
        "# for each file, we gather it's information using the helper function proccess.\n",
        "train_dtset = proccess_data('train', 1)\n",
        "valid_dtset = proccess_data('valid', 1)\n",
        "test_dtset = proccess_data('test', 1)\n"
      ],
      "execution_count": null,
      "outputs": []
    },
    {
      "cell_type": "markdown",
      "metadata": {
        "id": "tGjjrXP2yDR-"
      },
      "source": [
        "Let's explore each file:"
      ]
    },
    {
      "cell_type": "code",
      "metadata": {
        "colab": {
          "base_uri": "https://localhost:8080/"
        },
        "id": "wd8c6DYoyKbx",
        "outputId": "f3bf02ed-991f-4b2a-abe9-978c3aea70c7"
      },
      "source": [
        "dtafile_names = ['train', 'valid', 'test']\n",
        "dtafile_dataset = [train_dtset, valid_dtset, test_dtset]\n",
        "\n",
        "for i in range(len(dtafile_names)):\n",
        "  print(\"############################################################\")\n",
        "  print(\"###################### %s DATA SET ######################\" % (dtafile_names[i]))\n",
        "  print(\"############################################################\\n\\n\")\n",
        "  print('\\tNumber of Tokens in %s data set : \\t\\t\\t%d\\n' % (dtafile_names[i], len(dtafile_dataset[i]['words_tok'])))\n",
        "  print('\\tTotal number of characters in %s data set : \\t\\t%d\\n' % (dtafile_names[i], len(dtafile_dataset[i]['chars_tok'])))\n",
        "  print('\\tThe total number of distinct words in %s data set : \\t%d\\n' % (dtafile_names[i], dtafile_dataset[i]['distinct_words']))\n",
        "  print('\\tThe token/type ratio in %s data set : \\t%d\\n' % (dtafile_names[i], dtafile_dataset[i]['ratio']))\n",
        "\n",
        "\n"
      ],
      "execution_count": null,
      "outputs": [
        {
          "output_type": "stream",
          "text": [
            "############################################################\n",
            "###################### train DATA SET ######################\n",
            "############################################################\n",
            "\n",
            "\n",
            "\tNumber of Tokens in train data set : \t\t\t8177117\n",
            "\n",
            "\tTotal number of characters in train data set : \t\t4975414\n",
            "\n",
            "\tThe total number of distinct words in train data set : \t10031\n",
            "\n",
            "\tThe token/type ratio in train data set : \t815\n",
            "\n",
            "############################################################\n",
            "###################### valid DATA SET ######################\n",
            "############################################################\n",
            "\n",
            "\n",
            "\tNumber of Tokens in valid data set : \t\t\t70390\n",
            "\n",
            "\tTotal number of characters in valid data set : \t\t389672\n",
            "\n",
            "\tThe total number of distinct words in valid data set : \t6021\n",
            "\n",
            "\tThe token/type ratio in valid data set : \t11\n",
            "\n",
            "############################################################\n",
            "###################### test DATA SET ######################\n",
            "############################################################\n",
            "\n",
            "\n",
            "\tNumber of Tokens in test data set : \t\t\t78669\n",
            "\n",
            "\tTotal number of characters in test data set : \t\t438662\n",
            "\n",
            "\tThe total number of distinct words in test data set : \t6048\n",
            "\n",
            "\tThe token/type ratio in test data set : \t13\n",
            "\n"
          ],
          "name": "stdout"
        }
      ]
    },
    {
      "cell_type": "markdown",
      "metadata": {
        "id": "8EkJadP21wJc"
      },
      "source": [
        "Let's print The total number of tokens corresponding to the top- 5 most frequent words in the vocabulary using our top_N function."
      ]
    },
    {
      "cell_type": "code",
      "metadata": {
        "colab": {
          "base_uri": "https://localhost:8080/"
        },
        "id": "xviTMEVZ2Kuo",
        "outputId": "85948e23-a4ef-42c1-f050-e568c4a14e5d"
      },
      "source": [
        "n = 5\n",
        "for i in range(3):\n",
        "  print(\"Total number of tokens corresponding to top %d most frequent words in %s data set= %d\" %(n,  dtafile_names[i], top_N(n, dtafile_dataset[i]['word_counter'])))"
      ],
      "execution_count": null,
      "outputs": [
        {
          "output_type": "stream",
          "text": [
            "Total number of tokens corresponding to top 5 most frequent words in train data set= 1634386\n",
            "Total number of tokens corresponding to top 5 most frequent words in valid data set= 13792\n",
            "Total number of tokens corresponding to top 5 most frequent words in test data set= 16083\n"
          ],
          "name": "stdout"
        }
      ]
    },
    {
      "cell_type": "markdown",
      "metadata": {
        "id": "qhkiNsCW2qLN"
      },
      "source": [
        "we can even print our top n frequent words in our vocabulary, for example, let's print out 5 most common words with thier frequency in train data set.\n",
        "\n"
      ]
    },
    {
      "cell_type": "code",
      "metadata": {
        "colab": {
          "base_uri": "https://localhost:8080/"
        },
        "id": "FM_7IbjP3Ct_",
        "outputId": "c2f5fcbe-cca6-4a33-e74d-544ffee698ee"
      },
      "source": [
        " n = 5\n",
        "print(train_dtset['word_counter'].most_common(n))"
      ],
      "execution_count": null,
      "outputs": [
        {
          "output_type": "stream",
          "text": [
            "[('the', 465697), ('<unk>', 409213), ('N', 315125), ('of', 224887), ('to', 219464)]\n"
          ],
          "name": "stdout"
        }
      ]
    },
    {
      "cell_type": "markdown",
      "metadata": {
        "id": "lfZ1-l2N3MbB"
      },
      "source": [
        "we notice that the word \"<`unk>\" is frequently used in our vocabulary. \n",
        "\n",
        "\n",
        "we're going now to print the The number of types that appear in the dev data but not the training data.\n",
        "\n",
        "![set.jpg](data:image/jpeg;base64,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)\n"
      ]
    },
    {
      "cell_type": "code",
      "metadata": {
        "colab": {
          "base_uri": "https://localhost:8080/"
        },
        "id": "FkmhIq2e3Slh",
        "outputId": "65d67137-0f15-4caf-94ba-4203b86d9db1"
      },
      "source": [
        "print(len(valid_dtset['word_set'] - train_dtset['word_set']))"
      ],
      "execution_count": null,
      "outputs": [
        {
          "output_type": "stream",
          "text": [
            "0\n"
          ],
          "name": "stdout"
        }
      ]
    },
    {
      "cell_type": "markdown",
      "metadata": {
        "id": "xK9qAr_x5Y1n"
      },
      "source": [
        "awesome! now we know that all the words that in validating set are in our training data set. \n",
        "\n",
        "we'll compute now the average number and standard deviation of characters per token.\n",
        "\n",
        "\n"
      ]
    },
    {
      "cell_type": "code",
      "metadata": {
        "colab": {
          "base_uri": "https://localhost:8080/"
        },
        "id": "d4kJUGOe8sID",
        "outputId": "0fa66931-752d-4313-d9bc-bccc0ea1ab3e"
      },
      "source": [
        "'''\n",
        "there is a function in numpy library called std which compute the standard deviation along the specified axis.\n",
        "you can read about it's API here:   https://numpy.org/doc/stable/reference/generated/numpy.std.html '''\n",
        "\n",
        "def mean_dataset(dataset):\n",
        "    return np.sum([freq for word, freq in dataset['word_counter'].most_common()]) / dataset['distinct_words']\n",
        "\n",
        "def calculate_std(dataset):\n",
        "  mean = mean_dataset(dataset)\n",
        "  return np.sqrt((np.sum([np.square(np.abs(freq - mean)) for word, freq in dataset['word_counter'].most_common()]) / dataset['distinct_words']))\n",
        "\n",
        "# print(calculate_std(train_dtset))\n",
        "\n",
        "print('average number and standard deviation of characters per token = %.10f' %(np.std([len(word) for word in train_dtset['words_tok']])))"
      ],
      "execution_count": null,
      "outputs": [
        {
          "output_type": "stream",
          "text": [
            "average number and standard deviation of characters per token = 2.6030258422\n"
          ],
          "name": "stdout"
        }
      ]
    },
    {
      "cell_type": "markdown",
      "metadata": {
        "id": "qQwaqBOTWlf5"
      },
      "source": [
        "for building an n-gram model, we introduce a way to build n-gram dataset: \n"
      ]
    },
    {
      "cell_type": "code",
      "metadata": {
        "id": "6MoQAPOAqPnq"
      },
      "source": [
        "def n_gram_1(text, n):\n",
        "  res = []\n",
        "  for i in range(len(text) - n):\n",
        "    cond = tuple(text[i:i+n])\n",
        "    sample = text[i+n]\n",
        "    res.append(fst)\n",
        "  return res\n",
        "\n",
        "# an elegant way to do the above:\n",
        "def n_gram(text, n):\n",
        "  return zip(*(text[i:] for i in range(n)))\n"
      ],
      "execution_count": null,
      "outputs": []
    },
    {
      "cell_type": "markdown",
      "metadata": {
        "id": "O0nK7DUjlE4s"
      },
      "source": [
        "so we can print some information about our n-gram that we have built.\n",
        "\n",
        "here, we are showing the # of distinct words/chars in n-gram for ${n}\\in[2,5]$"
      ]
    },
    {
      "cell_type": "code",
      "metadata": {
        "colab": {
          "base_uri": "https://localhost:8080/"
        },
        "id": "hSHSUodUksOk",
        "outputId": "710cb54d-6e45-4e66-dd5f-4d1bb25082ed"
      },
      "source": [
        "def print_distinct_gram(text, opt, fst, end):\n",
        "  for i in range(fst,end):\n",
        "    my_gram = n_gram(text, i)\n",
        "    gram_counter = Counter(my_gram)\n",
        "    print(\"Total number of distinct %s in %d-gram : %d\" % (opt,i, len(gram_counter)))\n",
        "\n",
        "print_distinct_gram(train_dtset['words_tok'],'words', 2, 5)\n",
        "print_distinct_gram(train_dtset['chars_tok'], 'chars', 2,8)"
      ],
      "execution_count": null,
      "outputs": [
        {
          "output_type": "stream",
          "text": [
            "Total number of distinct words in 2-gram : 277547\n",
            "Total number of distinct words in 3-gram : 615726\n",
            "Total number of distinct words in 4-gram : 771638\n",
            "Total number of distinct chars in 2-gram : 958\n",
            "Total number of distinct chars in 3-gram : 9418\n",
            "Total number of distinct chars in 4-gram : 48379\n",
            "Total number of distinct chars in 5-gram : 154572\n",
            "Total number of distinct chars in 6-gram : 369781\n",
            "Total number of distinct chars in 7-gram : 703050\n"
          ],
          "name": "stdout"
        }
      ]
    },
    {
      "cell_type": "markdown",
      "metadata": {
        "id": "JbNntwYiMhdi"
      },
      "source": [
        "ofcourse, the more the sequence contains words, the less it's frequency appears in the data set.  "
      ]
    },
    {
      "cell_type": "markdown",
      "metadata": {
        "id": "2dZhWCaG5ybJ"
      },
      "source": [
        "**1.1.2** **Zipf and Power Law**\n",
        "\n",
        "let's verify that our plot of the log-frequency against rank-frequency is nearly linear. "
      ]
    },
    {
      "cell_type": "code",
      "metadata": {
        "colab": {
          "base_uri": "https://localhost:8080/",
          "height": 300
        },
        "id": "7CN0sleY5o2Q",
        "outputId": "8df20f8f-75c2-433f-86d7-cbd8bac0a236"
      },
      "source": [
        "# the nth most frequent word appears with a frequency of about 1/n of the most frequent word\n",
        "M = train_dtset['word_counter'].most_common(1)[0][1]\n",
        "plt.loglog([freq for word, freq in train_dtset['word_counter'].most_common(4000)])\n",
        "plt.loglog([M / i for i in range(1,4000)])\n",
        "\n",
        "plt.xlabel('rank')\n",
        "plt.ylabel('frequency')"
      ],
      "execution_count": null,
      "outputs": [
        {
          "output_type": "execute_result",
          "data": {
            "text/plain": [
              "Text(0, 0.5, 'frequency')"
            ]
          },
          "metadata": {
            "tags": []
          },
          "execution_count": 119
        },
        {
          "output_type": "display_data",
          "data": {
            "image/png": "[encoded data removed]",
            "text/plain": [
              "<Figure size 432x288 with 1 Axes>"
            ]
          },
          "metadata": {
            "tags": [],
            "needs_background": "light"
          }
        }
      ]
    },
    {
      "cell_type": "markdown",
      "metadata": {
        "id": "YFbTLh_n6tgd"
      },
      "source": [
        "it appears that our data set follows the power law distribution, as our plot is almos linear.\n"
      ]
    },
    {
      "cell_type": "markdown",
      "metadata": {
        "id": "pY3OQsc0_z6Z"
      },
      "source": [
        "##1.2 n-gram Word Language Model"
      ]
    },
    {
      "cell_type": "markdown",
      "metadata": {
        "id": "l6rYJpGiz2wX"
      },
      "source": [
        "**1.2.1 How much memory do you expect a model to occupy?**\n",
        "\n",
        "\n"
      ]
    },
    {
      "cell_type": "markdown",
      "metadata": {
        "id": "B4OzegKuOgEp"
      },
      "source": [
        "A language model(LM) is a probability distribution P(S) that describes how often a string wn1=w1···wn drawn from the set S appears in some domain of interest"
      ]
    },
    {
      "cell_type": "code",
      "metadata": {
        "colab": {
          "base_uri": "https://localhost:8080/"
        },
        "id": "6a1AFFbeIY-0",
        "outputId": "471211b9-f3a3-47a3-f643-54e4f2590884"
      },
      "source": [
        "V = len(train_dtset['words_tok'])\n",
        "print('Our Vocabulary contains %d words' % (V))"
      ],
      "execution_count": null,
      "outputs": [
        {
          "output_type": "stream",
          "text": [
            "Our Vocabulary contains 8177117 words\n"
          ],
          "name": "stdout"
        }
      ]
    },
    {
      "cell_type": "code",
      "metadata": {
        "colab": {
          "base_uri": "https://localhost:8080/",
          "height": 143
        },
        "id": "mW6DGGA5JCi2",
        "outputId": "f0b2e11d-7637-486b-aec2-9d0335ecd8e7"
      },
      "source": [
        "import pandas as pd\n",
        "df = pd.DataFrame({'N': ['2 (bigrams)', '3 (trigrams)', '4 (4-gram)'], 'Number Of bins' : [V**2,V**3,V**4]})\n",
        "df"
      ],
      "execution_count": null,
      "outputs": [
        {
          "output_type": "execute_result",
          "data": {
            "text/html": [
              "<div>\n",
              "<style scoped>\n",
              "    .dataframe tbody tr th:only-of-type {\n",
              "        vertical-align: middle;\n",
              "    }\n",
              "\n",
              "    .dataframe tbody tr th {\n",
              "        vertical-align: top;\n",
              "    }\n",
              "\n",
              "    .dataframe thead th {\n",
              "        text-align: right;\n",
              "    }\n",
              "</style>\n",
              "<table border=\"1\" class=\"dataframe\">\n",
              "  <thead>\n",
              "    <tr style=\"text-align: right;\">\n",
              "      <th></th>\n",
              "      <th>N</th>\n",
              "      <th>Number Of bins</th>\n",
              "    </tr>\n",
              "  </thead>\n",
              "  <tbody>\n",
              "    <tr>\n",
              "      <th>0</th>\n",
              "      <td>2 (bigrams)</td>\n",
              "      <td>66865242431689</td>\n",
              "    </tr>\n",
              "    <tr>\n",
              "      <th>1</th>\n",
              "      <td>3 (trigrams)</td>\n",
              "      <td>546764910597285460613</td>\n",
              "    </tr>\n",
              "    <tr>\n",
              "      <th>2</th>\n",
              "      <td>4 (4-gram)</td>\n",
              "      <td>4470960645448543093831392721</td>\n",
              "    </tr>\n",
              "  </tbody>\n",
              "</table>\n",
              "</div>"
            ],
            "text/plain": [
              "              N                Number Of bins\n",
              "0   2 (bigrams)                66865242431689\n",
              "1  3 (trigrams)         546764910597285460613\n",
              "2    4 (4-gram)  4470960645448543093831392721"
            ]
          },
          "metadata": {
            "tags": []
          },
          "execution_count": 121
        }
      ]
    },
    {
      "cell_type": "markdown",
      "metadata": {
        "id": "YO_WJbytMFgS"
      },
      "source": [
        "A lot of memory :\\\n"
      ]
    },
    {
      "cell_type": "markdown",
      "metadata": {
        "id": "fP2qS3lgwJr3"
      },
      "source": [
        "\n",
        "**1.2.2 N-gram LM**"
      ]
    },
    {
      "cell_type": "markdown",
      "metadata": {
        "id": "AqfrgDpEwTuL"
      },
      "source": [
        "We present a Python function to construct a word n-gram model given a dataset according to the signature:\n",
        "\n",
        "train_word_lm(dataset, n=2)\n"
      ]
    },
    {
      "cell_type": "code",
      "metadata": {
        "id": "7fMuiGmUE6-F"
      },
      "source": [
        "# creating language model with MLE smoothing teq:\n",
        "def create_lm(fname, order=4):\n",
        "  pad = ['*']*order\n",
        "  data = pad + fname\n",
        "  cfd = nltk.ConditionalFreqDist((' '.join(list(data[i: i + order])), data[i + order]) for i in range(len(data) - order))\n",
        "  cpd = nltk.ConditionalProbDist(cfd, nltk.MLEProbDist)\n",
        "  return cpd\n"
      ],
      "execution_count": null,
      "outputs": []
    },
    {
      "cell_type": "code",
      "metadata": {
        "id": "85rLzyjFSRc2"
      },
      "source": [
        "n = 2\n",
        "train_dataset_lm = create_lm(train_dtset['words_tok'], n)"
      ],
      "execution_count": null,
      "outputs": []
    },
    {
      "cell_type": "markdown",
      "metadata": {
        "id": "paWIWEbBP-kb"
      },
      "source": [
        "now that we have construct our n-gram language model dataset, we can provide some useful information using nltk libraries"
      ]
    },
    {
      "cell_type": "code",
      "metadata": {
        "colab": {
          "base_uri": "https://localhost:8080/"
        },
        "id": "KwOuJ0u7Ppwr",
        "outputId": "6981aa6c-5b90-4298-8eb1-a28d6c1387f7"
      },
      "source": [
        "print(train_dataset_lm['aer banknote'].samples())\n",
        "# Return the sample with the greatest number of outcomes in this frequency distribution\n",
        "print(train_dataset_lm['aer banknote'].max())\n",
        "print(train_dataset_lm['aer banknote'].prob('berlitz'))\n",
        "print(train_dataset_lm['calloway centrust'].samples())\n",
        "print(train_dataset_lm['aer banknote'].generate())"
      ],
      "execution_count": null,
      "outputs": [
        {
          "output_type": "stream",
          "text": [
            "dict_keys(['berlitz'])\n",
            "berlitz\n",
            "1.0\n",
            "dict_keys(['cluett'])\n",
            "berlitz\n"
          ],
          "name": "stdout"
        }
      ]
    },
    {
      "cell_type": "markdown",
      "metadata": {
        "id": "zfm8Ydpussmr"
      },
      "source": [
        "Even better, we can print all pairs (history = h, word = w)  such that $P(w|h) < 0.5$. \n"
      ]
    },
    {
      "cell_type": "code",
      "metadata": {
        "colab": {
          "base_uri": "https://localhost:8080/"
        },
        "id": "5OVT6QvpmqhO",
        "outputId": "d7c917b9-1b21-469d-bcd1-07301a2bf883"
      },
      "source": [
        "p = 0.5\n",
        "top = 5\n",
        "\n",
        "def less_than(lm, p):\n",
        "  _dct = {}\n",
        "  for sent in lm.conditions():\n",
        "    for sampl in lm[sent].samples():\n",
        "      if lm[sent].prob(sampl) < p:\n",
        "        _dct[sent,sampl] = lm[sent].prob(sampl)\n",
        "  return _dct \n",
        "\n",
        "def visualized(lm, p):\n",
        "  less_than_p = Counter(less_than(lm, p))\n",
        "  print('there are %d pairs (history , word) such that P(w|h) < %.1f .'%(len(less_than_p), p))\n",
        "  print('\\nprining first 5: ')\n",
        "  print('----------------')\n",
        "  for idx, sample in enumerate(less_than_p.most_common(top)):\n",
        "    h = sample[0][0]\n",
        "    w = sample[0][1]\n",
        "    p_hw = sample[1]\n",
        "    print('%d- P(%s | %s) = %.5f' % (idx+1,w, h, p_hw))\n",
        "\n",
        "\n",
        "visualized(train_dataset_lm, p)"
      ],
      "execution_count": null,
      "outputs": [
        {
          "output_type": "stream",
          "text": [
            "there are 356965 pairs (history , word) such that P(w|h) < 0.5 .\n",
            "\n",
            "prining first 5: \n",
            "----------------\n",
            "1- P($ | share or) = 0.49817\n",
            "2- P(said | industry executives) = 0.49801\n",
            "3- P(that | to believe) = 0.49744\n",
            "4- P(the | it completed) = 0.49708\n",
            "5- P(N | advanced N) = 0.49669\n"
          ],
          "name": "stdout"
        }
      ]
    },
    {
      "cell_type": "markdown",
      "metadata": {
        "id": "1O6R7txfUQjy"
      },
      "source": [
        "Another example of how we can use some usefull methods for presenting basic information about our model."
      ]
    },
    {
      "cell_type": "code",
      "metadata": {
        "id": "QqEBjTxzj9nc"
      },
      "source": [
        "def p_of_history(lm, h):\n",
        "   try:\n",
        "    samples = list(lm[h].samples())\n",
        "    for sampl in samples:\n",
        "      print('P(%s | %s) = %f' % (sampl, h, lm[h].prob(sampl)))\n",
        "   except:\n",
        "     print('try again with different history!\\n')\n"
      ],
      "execution_count": null,
      "outputs": []
    },
    {
      "cell_type": "code",
      "metadata": {
        "colab": {
          "base_uri": "https://localhost:8080/"
        },
        "id": "mfrpA4Hskr4n",
        "outputId": "ec31f944-b130-4d51-b47c-028f7a5318c5"
      },
      "source": [
        "history = 'i love'\n",
        "p_of_history(train_dataset_lm, history)"
      ],
      "execution_count": null,
      "outputs": [
        {
          "output_type": "stream",
          "text": [
            "P(this | i love) = 0.100000\n",
            "P(pilson | i love) = 0.900000\n"
          ],
          "name": "stdout"
        }
      ]
    },
    {
      "cell_type": "markdown",
      "metadata": {
        "id": "hXGETyCaRCMT"
      },
      "source": [
        "so far we have construct a language model based on n-gram corpus that we have build from our data set, but how good is our model?\n",
        "\n",
        "to answear that we need to evaluate the performance of the learned language models by using two techniques:\n",
        "\n",
        "\n",
        "1.  measuring perplexity on a validation dataset and using the model to  generate random text.\n",
        "2.   assessing the readability of the generated text.\n",
        "\n"
      ]
    },
    {
      "cell_type": "markdown",
      "metadata": {
        "id": "Qu7st5ZOW7Gb"
      },
      "source": [
        "##1.3 Language Model Evaluation\n"
      ]
    },
    {
      "cell_type": "markdown",
      "metadata": {
        "id": "rljH12-3W_5A"
      },
      "source": [
        "* 1.3.1 Perplexity"
      ]
    },
    {
      "cell_type": "markdown",
      "metadata": {
        "id": "Jop4KsxsDjHU"
      },
      "source": [
        "*Perplexity is a popularly used measure to quantify how \"good\" such a model is. If a sentence s contains n words then perplexity :*\n",
        "$PP(s) = P(w_1,...,w_n)^{-1/n}$"
      ]
    },
    {
      "cell_type": "markdown",
      "metadata": {
        "id": "TvvDrgTNm9IW"
      },
      "source": [
        "transfering the above formula to python code yields the following algorithim:"
      ]
    },
    {
      "cell_type": "code",
      "metadata": {
        "id": "gJvkrYdcank6"
      },
      "source": [
        "# default bigram\n",
        "\n",
        "def perplexity(lm, gram_s, pen):\n",
        "  pp_s = 1\n",
        "  for s in gram_s:\n",
        "    cond = ' '.join(list(s[:-1]))\n",
        "    try:\n",
        "        p = lm[cond].prob(s[-1])\n",
        "        if p != 0:\n",
        "          pp_s *= p\n",
        "        \n",
        "        else: \n",
        "          1/pen  \n",
        "    except: # means that this gram (\"sentence\") is not in the model\n",
        "      return -1\n",
        "\n",
        "  return  pp_s**(1/len(gram_s))\n",
        "\n",
        "\n",
        "def avg_perplexity(lm, dataset):\n",
        "  pps = []\n",
        "  pen = len(dataset)\n",
        "  for sent in dataset:\n",
        "    sent_to_gram = list(n_gram(sent.split(), n+1))\n",
        "    if len(sent_to_gram) != 0:\n",
        "      pp_s = perplexity(lm, sent_to_gram, pen)\n",
        "      if pp_s != -1:\n",
        "        pps.append(pp_s)\n",
        "\n",
        "  return np.sum(pps)/len(pps)\n"
      ],
      "execution_count": null,
      "outputs": []
    },
    {
      "cell_type": "markdown",
      "metadata": {
        "id": "CaDJuQp0dzAp"
      },
      "source": [
        "**printing the perplexity of our model**.\n",
        "\n",
        "\n",
        "but wait, if we calculate the perplexity of our model using different dataset (from the training dataset) it may return 0. this because our model only recognize his training data. so, giving a history of words $h = w_1...w_s$ and an arbitirary word $w$ that not in training dataset:\n",
        "rewriting the above formula using chain rule yields the following equation:\n",
        "\n",
        "$ PP(S) = PP(wh) = P(w) * P(w_1|w) *...*P(w_s|w_1...w_{s-1})$.\n",
        "\n",
        "since $w$ not in our dataset, we get $P(w) = 0 $ and thus, $PP(s) = 0$.\n",
        "to solve that we need to **'smooth'** our model, but before doing that, we can calculate the average perprlexity of the model, that is, we only consider those $h, w$ that our model recognize.\n",
        " "
      ]
    },
    {
      "cell_type": "code",
      "metadata": {
        "colab": {
          "base_uri": "https://localhost:8080/"
        },
        "id": "sx1HYA4td5Af",
        "outputId": "1612dae7-8665-46d8-d70d-c16862611a09"
      },
      "source": [
        "# avg_train = avg_perplexity(train_dataset_lm, train_dtset['sentences'][:2])\n",
        "avg_valid = avg_perplexity(train_dataset_lm, valid_dtset['sentences'])\n",
        "print(avg_valid)"
      ],
      "execution_count": null,
      "outputs": [
        {
          "output_type": "stream",
          "text": [
            "0.45284763729451366\n"
          ],
          "name": "stdout"
        }
      ]
    },
    {
      "cell_type": "markdown",
      "metadata": {
        "id": "naekWZ3YnEEJ"
      },
      "source": [
        "the resault is obvious, we get a low perplexity value which means that our model is good! BUT nah, we get low perplexity because we only considered h, w that in our training dataset. \n",
        "\n",
        "from gathering data siction, we saw that all the words in the trainig dataset are in the validate data set. taht's cool, but does it have the same n-gram?\n",
        "that is, does both file contains the same frequency of such a word? the answear is giving above."
      ]
    },
    {
      "cell_type": "code",
      "metadata": {
        "id": "aTmrt7tuIZTp"
      },
      "source": [
        "'''\n",
        ">>> list(ngrams([1,2,3,4,5], 2, pad_right=True))\n",
        "        [(1, 2), (2, 3), (3, 4), (4, 5), (5, None)]\n",
        "        >>> list(ngrams([1,2,3,4,5], 2, pad_right=True, right_pad_symbol='</s>'))\n",
        "        [(1, 2), (2, 3), (3, 4), (4, 5), (5, '</s>')]\n",
        "        >>> list(ngrams([1,2,3,4,5], 2, pad_left=True, left_pad_symbol='<s>'))\n",
        "        [('<s>', 1), (1, 2), (2, 3), (3, 4), (4, 5)]\n",
        "        >>> list(ngrams([1,2,3,4,5], 2, pad_left=True, pad_right=True, left_pad_symbol='<s>', right_pad_symbol='</s>'))\n",
        "        [('<s>', 1), (1, 2), (2, 3), (3, 4), (4, 5), (5, '</s>')]\n",
        "\n",
        "'''\n",
        "n = 2\n",
        "\n",
        "def train_lm(train_sentences, n):\n",
        "  pad = ['*' for i in range(n)]\n",
        "  tokenized_text = pad + [list(map(str.lower, nltk.word_tokenize(sent))) for sent in train_sentences]\n",
        "  train_data = [nltk.ngrams(seq, n,pad_right=True, pad_left=True, left_pad_symbol='*', right_pad_symbol= '*') for seq in tokenized_text] \n",
        "  words = [word for sent in tokenized_text for word in sent]\n",
        "  padded_vocab = Vocabulary(words)\n",
        "  #Build our model\n",
        "  model = MLE(n)\n",
        "  model.fit(train_data, padded_vocab)\n",
        "  return model\n",
        "  \n",
        "model_lm_mle = train_lm(train_dtset['sentences'], n)\n",
        "\n"
      ],
      "execution_count": null,
      "outputs": []
    },
    {
      "cell_type": "markdown",
      "metadata": {
        "id": "v2tuE1A1SMwq"
      },
      "source": [
        "After creating and training our n-gram model, we can now test it in our test data set"
      ]
    },
    {
      "cell_type": "code",
      "metadata": {
        "id": "vL5dTyDYSMEK"
      },
      "source": [
        "#Testing model\n",
        "import math\n",
        "\n",
        "res = []\n",
        "def test_model_sentence(lm, sentence, n):\n",
        "  sent = list(n_gram(sentence, n))\n",
        "  if len(sent) != 0:\n",
        "    p = lm.perplexity(sent)\n",
        "    if math.isinf(p)==False:\n",
        "      res.append(p)   \n",
        "\n",
        "def test_model(lm, sentences):\n",
        "  for sent in sentences:\n",
        "    _sent = sent.split()\n",
        "    test_model_sentence(lm, _sent, n)\n",
        "  return np.sum(res)/len(res)  \n",
        "\n",
        "\n",
        "def test_generate(lm, n=2):\n",
        "  start = ['*' for i in range(n)]\n",
        "  out = []\n",
        "  for _ in range(10):\n",
        "    word = lm.generate(random_seed=3)\n",
        "    start = start[:1] + word\n",
        "    out.append(word)\n",
        "\n",
        "  print(' '.join(out))  \n",
        "\n",
        "\n",
        "# test_model(model_lm, test_dtset['sentences'])"
      ],
      "execution_count": null,
      "outputs": []
    },
    {
      "cell_type": "code",
      "metadata": {
        "id": "-lpcHX-ixXoN",
        "colab": {
          "base_uri": "https://localhost:8080/"
        },
        "outputId": "0d9074f6-7fd4-4c01-f848-ad77379354e3"
      },
      "source": [
        "def calc_perp(model_lm, dataset, n=2):\n",
        "  res = []\n",
        "  pen = 1/len(dataset)\n",
        "  for sent in dataset:\n",
        "    sent_to_gram = list(n_gram(sent.split(), n))\n",
        "    if len(sent_to_gram) != 0:\n",
        "      try:\n",
        "        perp = model_lm.perplexity(sent_to_gram)\n",
        "        if perp != 0 and math.isinf(perp)==False:\n",
        "          res.append(res)\n",
        "      except:\n",
        "        res.append(pen)  \n",
        "  return np.sum(res)/len(res)    \n",
        "\n",
        "\n",
        "calc_perp(model_lm_mle, valid_dtset['sentences'])"
      ],
      "execution_count": null,
      "outputs": [
        {
          "output_type": "execute_result",
          "data": {
            "text/plain": [
              "0.0002966478789676653"
            ]
          },
          "metadata": {
            "tags": []
          },
          "execution_count": 30
        }
      ]
    },
    {
      "cell_type": "markdown",
      "metadata": {
        "id": "wVcNU1dyXHUJ"
      },
      "source": [
        "in some cases, we encounter a word that is not in our dataset and thus giving us probability of 0. Now wer'e going to 'smooth' the model, that is, flatten the probabilities like: giving some $S_1 = h_1w_1$, $ S_2 = h_2w_2$ such that $P(w_1 | h_1) = p_1 $, and $P(w_2 | h_2) = p_2$ and $ p_2 = 0.000..1.. $ (close to 0) and $p_1 > 0.6$\n",
        "\n",
        "after smoothing we get something like this:\n",
        "\n",
        "$P(w_2 | h_2) = p_2 + (\\epsilon > 0) $\n",
        "\n",
        "$P(w_1 | h_1) = p_1 - \\epsilon $\n",
        "\n",
        "\n"
      ]
    },
    {
      "cell_type": "markdown",
      "metadata": {
        "id": "nr-tTo5qw1Qe"
      },
      "source": [
        "![1*cfY_yQk3LbjoxHC-HcxoDw.png](data:image/png;base64,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)"
      ]
    },
    {
      "cell_type": "markdown",
      "metadata": {
        "id": "nGzNnPVrfzbe"
      },
      "source": [
        "**Laplace-smoothed bigrams** :  \n",
        "> $ p(w_n|w_n-1) = \\frac{C(w_{n-1}w_n) + 1}{C(w_{n-1}) + V} $.\n",
        "\n",
        "> $ C(w_{n-1}w_n) = \\frac {[C(w_{n-1}w_n) + 1] * C(w_{n-1})}{C(W_{n-1}) + V} $\n",
        "\n",
        "\n",
        "*   Laplace smoothing not often used for N-grams, as we have much better methods.\n",
        "*   Despite its flaws, Laplace (add-k) is however still used to smooth other probabilistic models in NLP, especially\n",
        " > * For pilot studies.\n",
        " > * In domains where the number of zeros isn’t so huge.\n",
        "\n",
        "\n",
        "---\n",
        "\n"
      ]
    },
    {
      "cell_type": "markdown",
      "metadata": {
        "id": "Nj1CJ8jse4Lz"
      },
      "source": [
        "\n",
        "> Minimizing perplexity is the same as maximizing probability.\n",
        "The best language model is one that best predicts an unseen test set"
      ]
    },
    {
      "cell_type": "markdown",
      "metadata": {
        "id": "pCD4B66QbNG5"
      },
      "source": [
        "> **Smoothing is like Robin Hood: Steal from the rich, give to the poor (probability mass) :)**"
      ]
    },
    {
      "cell_type": "code",
      "metadata": {
        "id": "M52M1ar2-2Wb"
      },
      "source": [
        "#@title create_lm_smooth\n",
        "from nltk import LidstoneProbDist, FreqDist\n",
        "V = len(train_dtset['word_counter'])\n",
        "n = 2\n",
        "gamma = 0.5\n",
        "\n",
        "def train_lm_test(dataset, n=2):\n",
        "  fdist = defaultdict(FreqDist)\n",
        "  dataset = ['*']*n + dataset\n",
        "  for i in range(len(dataset) - n):\n",
        "    cond = ' '.join(dataset[i : i + n])\n",
        "    word = dataset[i + n]\n",
        "    fdist[cond][word] += 1\n",
        "  return fdist  \n",
        "\n",
        "def create_lm_smooth(dataset, order, smooth_teq, moreParam=None):\n",
        "  pad = ['*']*order\n",
        "  dataset = pad + dataset\n",
        "  cfd = nltk.ConditionalFreqDist((' '.join(list(dataset[i: i + order])), dataset[i + order]) for i in range(len(dataset) - order))\n",
        "  cpd = nltk.ConditionalProbDist(cfd, smooth_teq, moreParam)\n",
        "  return cpd\n",
        "\n",
        "\n",
        "lidstone_lm = create_lm_smooth(train_dtset['words_tok'], n, nltk.LidstoneProbDist, gamma)\n",
        "laplace_lm = create_lm_smooth(train_dtset['words_tok'], n, nltk.LaplaceProbDist)\n"
      ],
      "execution_count": null,
      "outputs": []
    },
    {
      "cell_type": "markdown",
      "metadata": {
        "id": "8cSQvI1luhdi"
      },
      "source": [
        "we can compare our original model (MLE) and the smoothing model, like laplace\n",
        "to actually see the 'smoothing'.\n",
        "\n",
        "wer'e going to do that with our helper-function *less_than()*.\n",
        "apllying this function to different smoothing model yields different probability for each sample for each model!"
      ]
    },
    {
      "cell_type": "code",
      "metadata": {
        "id": "6CHGsoLMwXVu",
        "colab": {
          "base_uri": "https://localhost:8080/"
        },
        "outputId": "46b3a073-eec0-44c8-d659-28763b4d5033"
      },
      "source": [
        "num_of_ps_to_print = 5\n",
        "n = 3\n",
        "p = 0.5\n",
        "models = [train_dataset_lm, laplace_lm, lidstone_lm]\n",
        "models_names = ['MLE', 'LAPLACE', 'LIDSTONE']\n",
        "\n",
        "for i in range(n):\n",
        "  j = 0\n",
        "  print('--------------')\n",
        "  print('Model: %s' % (models_names[i]))\n",
        "  print('--------------')\n",
        "  visualized(models[i], p)\n",
        "  print('\\n---------------------------------------------------------')"
      ],
      "execution_count": null,
      "outputs": [
        {
          "output_type": "stream",
          "text": [
            "--------------\n",
            "Model: MLE\n",
            "--------------\n",
            "there are 356965 pairs (history , word) such that P(w|h) < 0.5 .\n",
            "\n",
            "prining first 5: \n",
            "----------------\n",
            "1- P($ | share or) = 0.49817\n",
            "2- P(said | industry executives) = 0.49801\n",
            "3- P(that | to believe) = 0.49744\n",
            "4- P(the | it completed) = 0.49708\n",
            "5- P(N | advanced N) = 0.49669\n",
            "\n",
            "---------------------------------------------------------\n",
            "--------------\n",
            "Model: LAPLACE\n",
            "--------------\n",
            "there are 358579 pairs (history , word) such that P(w|h) < 0.5 .\n",
            "\n",
            "prining first 5: \n",
            "----------------\n",
            "1- P(this | contributed to) = 0.49834\n",
            "2- P(vice | an executive) = 0.49784\n",
            "3- P(N | that N) = 0.49767\n",
            "4- P(meeting | shareholders ') = 0.49741\n",
            "5- P(be | may not) = 0.49726\n",
            "\n",
            "---------------------------------------------------------\n",
            "--------------\n",
            "Model: LIDSTONE\n",
            "--------------\n",
            "there are 358134 pairs (history , word) such that P(w|h) < 0.5 .\n",
            "\n",
            "prining first 5: \n",
            "----------------\n",
            "1- P(to | it expects) = 0.49953\n",
            "2- P(for | the need) = 0.49911\n",
            "3- P(N | in october) = 0.49903\n",
            "4- P(vice | a senior) = 0.49878\n",
            "5- P(rose | consumer prices) = 0.49864\n",
            "\n",
            "---------------------------------------------------------\n"
          ],
          "name": "stdout"
        }
      ]
    },
    {
      "cell_type": "code",
      "metadata": {
        "id": "igk0ribT3GUr"
      },
      "source": [
        "\n",
        "def E_p(lm, dataset, gamma=1,n=2):\n",
        "  dataset = ['*']*n + dataset\n",
        "  res = 0\n",
        "  for i in range(len(dataset) - n):\n",
        "    cond = ' '.join(dataset[i : i + n])\n",
        "    word = dataset[i + n]\n",
        "    lidstone = LidstoneProbDist(lm[cond], gamma=gamma, bins=V)\n",
        "    res += np.log2(lidstone.prob(word))\n",
        "      \n",
        "  return -res/(len(dataset)-n)  \n",
        "\n",
        "\n",
        "def perp_using_E_p(lm, dataset, gamma, n):\n",
        "  return 2**(E_p(lm, dataset, gamma, n))\n",
        "\n"
      ],
      "execution_count": null,
      "outputs": []
    },
    {
      "cell_type": "markdown",
      "metadata": {
        "id": "C8f7zhxu_q4X"
      },
      "source": [
        "**1.3.2 Perplexity according to the order of the n-gram model**\n",
        "\n",
        "* computing perplexity of the trained model on the validation dataset for different Lidstone estimators: "
      ]
    },
    {
      "cell_type": "code",
      "metadata": {
        "id": "7ZcYItlF-h1H"
      },
      "source": [
        "# Draw graph of perplexity of bigram LM for values of gamma with Lidstone estimator as smoothing method\n",
        "gammas = [(1/i) for i in range(1,21)]\n",
        "l_model = train_lm_test(train_dtset['words_tok'])\n",
        "perps = [perp_using_E_p(l_model, valid_dtset['words_tok'], gamma, 2) for gamma in gammas]"
      ],
      "execution_count": null,
      "outputs": []
    },
    {
      "cell_type": "code",
      "metadata": {
        "id": "4wyt1DEPArQq",
        "colab": {
          "base_uri": "https://localhost:8080/",
          "height": 279
        },
        "outputId": "b342c18b-13be-488e-9419-2796579922a9"
      },
      "source": [
        "plt.xlabel('gamma')\n",
        "plt.ylabel('perplexity')\n",
        "plt.plot(gammas, perps)\n",
        "plt.show()"
      ],
      "execution_count": null,
      "outputs": [
        {
          "output_type": "display_data",
          "data": {
            "image/png": "[encoded data removed]",
            "text/plain": [
              "<Figure size 432x288 with 1 Axes>"
            ]
          },
          "metadata": {
            "tags": [],
            "needs_background": "light"
          }
        }
      ]
    },
    {
      "cell_type": "markdown",
      "metadata": {
        "id": "Vhj_IcrSCDcS"
      },
      "source": [
        "So we can infer from the plot that the less the gamma -> less perplexity in our langauge model.\n",
        "\n",
        "from the above graph, for $ gamma = 1/20$ we get less perplexity,\n",
        "giving this, we're going now to draw a graph of the obtained perplexity on the validation dataset for different values of n between 2 and 20: "
      ]
    },
    {
      "cell_type": "code",
      "metadata": {
        "id": "z5cLyZtDCxxh"
      },
      "source": [
        "gamma = (1/20)\n",
        "\n",
        "diff_models = [train_lm_test(train_dtset['words_tok'], n) for n in range(2,21)]\n",
        "diff_models_perps = [perp_using_E_p(diff_models[i], valid_dtset['words_tok'], gamma, n=i+2) for i in range(len(diff_models))]"
      ],
      "execution_count": null,
      "outputs": []
    },
    {
      "cell_type": "code",
      "metadata": {
        "id": "afl81gm0Do8S",
        "colab": {
          "base_uri": "https://localhost:8080/",
          "height": 279
        },
        "outputId": "599241f8-247e-45b7-946c-f6c50570c193"
      },
      "source": [
        "plt.xlabel('n')\n",
        "plt.ylabel('perplexity')\n",
        "plt.plot(range(2,21), diff_models_perps)\n",
        "plt.show()"
      ],
      "execution_count": null,
      "outputs": [
        {
          "output_type": "display_data",
          "data": {
            "image/png": "[encoded data removed]",
            "text/plain": [
              "<Figure size 432x288 with 1 Axes>"
            ]
          },
          "metadata": {
            "tags": [],
            "needs_background": "light"
          }
        }
      ]
    },
    {
      "cell_type": "code",
      "metadata": {
        "id": "UxjfRr52UUOE",
        "colab": {
          "base_uri": "https://localhost:8080/"
        },
        "outputId": "8d6c5364-6a99-4f1b-b5e6-dd6481d6f655"
      },
      "source": [
        "# best model from our graph is built using 2-gram\n",
        "best_gamma = (1/20)\n",
        "best_model_lidstone = train_lm_test(train_dtset['words_tok'], 2)\n",
        "best_perp = perp_using_E_p(best_model_lidstone, test_dtset['words_tok'], best_gamma, n=2)\n",
        "print(best_perp)"
      ],
      "execution_count": null,
      "outputs": [
        {
          "output_type": "stream",
          "text": [
            "1399.58627512435\n"
          ],
          "name": "stdout"
        }
      ]
    },
    {
      "cell_type": "markdown",
      "metadata": {
        "id": "WMsEIANTO3O7"
      },
      "source": [
        "**1.3.4 Test the best n-gram LM**"
      ]
    },
    {
      "cell_type": "markdown",
      "metadata": {
        "id": "jWUclQzmkKTW"
      },
      "source": [
        "* Good Turing \n",
        "\n",
        "> $N[x]$ is the frequency-of-frequency-$x$.\n",
        "\n",
        "> $ N[1] = 10$ means there are 10 distinct words occured exactly 1 times in our corpus.\n",
        "\n",
        "> $c_* = (c + 1) N[c + 1] / N[c]$\n"
      ]
    },
    {
      "cell_type": "code",
      "metadata": {
        "id": "e_-R8IVrOz3d"
      },
      "source": [
        "# calculating perpexity with simple good turing\n",
        "def E_p_gt(lm, dataset,n=2):\n",
        "  dataset = ['*']*n + dataset\n",
        "  res = 0\n",
        "  for i in range(len(dataset) - n):\n",
        "    cond = ' '.join(dataset[i : i + n])\n",
        "    word = dataset[i + n]\n",
        "    good_turing = nltk.SimpleGoodTuringProbDist(lm[cond], bins=V)\n",
        "    p = good_turing.prob(word) \n",
        "    if p != 0 and math.isinf(p)==False:\n",
        "      res += np.log2(p)\n",
        "    else:\n",
        "      res += 1/(len(dataset))\n",
        "  return -res/(len(dataset)-n)  \n",
        "\n",
        "\n",
        "def perp_using_E_p_gt(lm, dataset, n):\n",
        "  return 2**(E_p_gt(lm, dataset, n))\n"
      ],
      "execution_count": null,
      "outputs": []
    },
    {
      "cell_type": "code",
      "metadata": {
        "id": "oI9j5t3lSXBu",
        "colab": {
          "base_uri": "https://localhost:8080/"
        },
        "outputId": "a0dc370b-2def-466c-83b5-00ab6b32fa56"
      },
      "source": [
        "good_turing_lm_perp = perp_using_E_p_gt(l_model, test_dtset['words_tok'], 2)\n",
        "print(good_turing_lm_perp)"
      ],
      "execution_count": null,
      "outputs": [
        {
          "output_type": "stream",
          "text": [
            "/usr/local/lib/python3.6/dist-packages/nltk/probability.py:1422: UserWarning: SimpleGoodTuring did not find a proper best fit line for smoothing probabilities of occurrences. The probability estimates are likely to be unreliable.\n",
            "  'SimpleGoodTuring did not find a proper best fit '\n"
          ],
          "name": "stderr"
        },
        {
          "output_type": "stream",
          "text": [
            "573.3599556380234\n"
          ],
          "name": "stdout"
        }
      ]
    },
    {
      "cell_type": "code",
      "metadata": {
        "id": "RMj8bh7HV3rP",
        "colab": {
          "base_uri": "https://localhost:8080/"
        },
        "outputId": "71e49b88-db99-4582-9385-dd44f3b80639"
      },
      "source": [
        "# perplexity of smoothing model using Laplace\n",
        "\n",
        "def calc_laplace_perp(lm, dataset, n=2):\n",
        "  dataset = ['*']*n + dataset\n",
        "  res = 0\n",
        "  for i in range(len(dataset) - n):\n",
        "    cond = ' '.join(dataset[i : i + n])\n",
        "    word = dataset[i + n]\n",
        "    try:\n",
        "      if lm[cond].prob(word) != 0:\n",
        "        res += np.log2(lm[cond].prob(word))\n",
        "    except:\n",
        "      res += 1/len(dataset)  \n",
        "  return -res/(len(dataset)-n) \n",
        "\n",
        "def perp_laplace(lm, dataset, n):\n",
        "  return 2**(calc_laplace_perp(lm, dataset, n))\n",
        "\n",
        "\n",
        "perp_laplace(laplace_lm, test_dtset['words_tok'], n=2)"
      ],
      "execution_count": null,
      "outputs": [
        {
          "output_type": "execute_result",
          "data": {
            "text/plain": [
              "17.233748443332495"
            ]
          },
          "metadata": {
            "tags": []
          },
          "execution_count": 68
        }
      ]
    },
    {
      "cell_type": "markdown",
      "metadata": {
        "id": "tF83e2YvZCCr"
      },
      "source": [
        "**1.3.5 Generating Text from a Language Model**.\n",
        "\n",
        "\n",
        "Another way to evaluate a language model is to use the model in a generative manner - that is, to randomly sample sentences starting from a seed prefix, and generating each next word by sampling from the model distribution p(w|prefix)\n",
        "\n",
        "\n",
        "\n",
        "We experiment with a variety of seeds.."
      ]
    },
    {
      "cell_type": "code",
      "metadata": {
        "id": "YlEC4I9XZJLJ"
      },
      "source": [
        "# Test generate it on the best model trained above\n",
        "\n",
        "def generate(model, seed=' ', num_words=1):\n",
        "  out = []\n",
        "  for _ in range(num_words):\n",
        "    try:\n",
        "      word = model[seed].generate()\n",
        "      seed = seed[1:] + ' '+word\n",
        "      # print(seed,' -> ' ,word)\n",
        "      out.append(word)\n",
        "    except:\n",
        "      seed = seed[1:] \n",
        "  return out\n"
      ],
      "execution_count": null,
      "outputs": []
    },
    {
      "cell_type": "markdown",
      "metadata": {
        "id": "zmeVlCNaeOfh"
      },
      "source": [
        "\n",
        "* We first test the case where seed = '* *', first word in the dataset.\n",
        "  > ofcourse the first word we except to get using the above seed is \"aer\"\n",
        "    since we pad our dataset with '* *', so the first word in our original vocab would have 'history' so we can caclcualte P('aer'|history=seed).\n"
      ]
    },
    {
      "cell_type": "code",
      "metadata": {
        "id": "ea6a28UEbOCV",
        "colab": {
          "base_uri": "https://localhost:8080/"
        },
        "outputId": "f47625d7-a368-48d2-c464-546426b5b290"
      },
      "source": [
        "# working in bigram, lidstone model\n",
        "res = generate(lidstone_lm, seed='* *', num_words=1000)\n",
        "print(' '.join(res))\n"
      ],
      "execution_count": null,
      "outputs": [
        {
          "output_type": "stream",
          "text": [
            "aer banknote berlitz calloway centrust cluett fromstein gitano guterman hydro-quebec ipo kia memotec mlx nahb punts rake regatta rubens sim snack-food ssangyong swapo wachter pierre <unk> an analyst at smith barney harris upham & co. said that its bookings more than N years from now if the government issues its first quarter N N bond due N rose N to N N gain in consolidated new york stock exchange composite trading schering-plough shares fell initially on questions of the c$ N million but the session when a david baltimore who has held senior sales positions at polaroid the personnel policy planning committee known as <unk> <unk> a special shareholder meeting to vote for the support staff with respect to highly classified <unk> between the corporate bond issues on the show 's <unk> he has taken its toll on earnings or return on equity we view it as soon as the dominant partner in six trading days a week bankamerica 's total of N yen in the heavy activity in the latest period to $ N million loss\n"
          ],
          "name": "stdout"
        }
      ]
    },
    {
      "cell_type": "markdown",
      "metadata": {
        "id": "Nx4UV2G8fn1u"
      },
      "source": [
        "* Then the case where seed=(w1 w2) where w1 = most common word, w2 = second most common word!"
      ]
    },
    {
      "cell_type": "code",
      "metadata": {
        "id": "S7wobj-_f58y",
        "colab": {
          "base_uri": "https://localhost:8080/"
        },
        "outputId": "a10ef973-acd7-4a18-837e-88ebc47276df"
      },
      "source": [
        "w1 = train_dtset['word_counter'].most_common(1)[0][0]\n",
        "w2 = train_dtset['word_counter'].most_common(2)[1][0]\n",
        "seed = w1 + ' ' + w2\n",
        "res1 = generate(lidstone_lm, seed=seed, num_words=1000)\n",
        "print(' '.join(res1))"
      ],
      "execution_count": null,
      "outputs": [
        {
          "output_type": "stream",
          "text": [
            "offering of N they were introduced only one part of the property would trigger <unk> sentiment last summer and establishing the office and residential mortgages which rose $ N million the <unk> <unk> founder will retire nov. N the company sold his N estimate to between $ N both men were scheduled to be determined until state officials could n't take the <unk> called the market the new deal was being strongly criticized in the general assembly the proposed settlement customers with valid claims of momentum even though the epicenter was n't identified vision banc insider from insured financial institutions have driven individual investors i think it might have entered the high-definition television or hdtv which is <unk> they pay on their ag stock since the start of the class c warrants to holders of the hole for mr. <unk> calls the ranch the team 's <unk> will make them directly comparable lending practices in the cracks said mark <unk> the campaign by wooing a core black audience they figure\n"
          ],
          "name": "stdout"
        }
      ]
    },
    {
      "cell_type": "markdown",
      "metadata": {
        "id": "z0rxl1IibLpn"
      },
      "source": [
        "it make sense now! "
      ]
    },
    {
      "cell_type": "markdown",
      "metadata": {
        "id": "4YmuBkLxgu9y"
      },
      "source": [
        "## 1.4 Character language model"
      ]
    },
    {
      "cell_type": "markdown",
      "metadata": {
        "id": "DUsKvGRGSXyB"
      },
      "source": [
        "* 1.4.1 Read and Summarize"
      ]
    },
    {
      "cell_type": "markdown",
      "metadata": {
        "id": "uNNJNzFGSazZ"
      },
      "source": [
        "* **The Unreasonable Effectiveness of Recurrent Neural Networks :**\n",
        "so what makes Recurrent Networks so special?\n",
        "they allow us to operate over sequences of vectors: Sequences in the input, the output, or in the most general case both\n",
        "RNNs combine the input vector with their state vector with a fixed (but learned) function to produce a new state vector,\n",
        "The takeaway is that even if your data is not in form of sequences, you can still formulate and train powerful models that learn to process it sequentially. You’re learning stateful programs that process your fixed-sized data.\n",
        "How RNN work? RNNs have an API: They accept an input vector x and give you an output vector y. this output vector’s contents are influenced not only by the input you just fed in, but also on the entire history of inputs you’ve fed in in the past. \n",
        "Now we talk about how to train RNN character-level language models. That is, we’ll give the RNN a text and ask it to model the probability distribution of the next character in the sequence given a sequence of previous characters. This will then allow us to generate new text one character at a time.\n",
        "Chracters : h, l ,e,o\n",
        "First: e” The probability  given the context of “h”, \n",
        "Second:  l” The probability  given the context of “he”,\n",
        "Ect…\n",
        " In order to push structured data, he decided to use code, source and header files found in the Linux repo on Github, concatenated all of them in a single giant file Then he trained several as-large-as-fits-on-my-GPU 3-layer LSTMs over a period of a few days. These models have about 10 million parameters, which is still on the lower end for RNN models. The results are superfun\n",
        "1) It opens and closes brackets {[ correctly, \n",
        "2)The code looks really quite great overall \n",
        "In contrast\n",
        "1) A common error is that it can’t keep track of variable names \n",
        "2)declares variables it never uses\n",
        "for conclusion \n",
        "The picture is that the model first discovers the general word-space structure and then rapidly starts to learn the words; First starting with the short words and then eventually the longer ones. Topics and themes that span multiple words (and in general longer-term dependencies) start to emerge only much later.\n",
        "another fun visualization is to look at the predicted distributions over characters.\n",
        "model is extremely confident about the next letter (e.g., the model is very confident about characters during the http://www. sequence)\n",
        "\n",
        "\n"
      ]
    },
    {
      "cell_type": "markdown",
      "metadata": {
        "id": "L8ANjzjJik-O"
      },
      "source": [
        "* **The unreasonable effectiveness of Character-level Language Models (and why RNNs are still cool):**\n",
        "in this article, Yoav mainly focus on building a characters-level language model and generate some chars without the use of RNN, which called *unsmoothed maximum-liklihood character level language models*.\n",
        "the idea is, to build a model whos job is to predict the next char based on previous n letters. so how does that work? Mathematiacally, we would like to learn a function P(c|h). Here, c is a character, h is a n-letters history, and P(c|h) stands for how likely is it to see c after we've seen h.\n",
        "by building those steps, we need to evaluate the performance of the C-LM, one way to do that is to **generate** random letters and concatenate them to one output, and examine the output (readable, reasonable, ...). i Yoav article, he does that by comparing the model on different orders {2, 4, 7, 10}.\n",
        "we conclude from his article that with an order 4 we get quit reasonable results (order 4 also mean words at length 4) which means it is enough for a chars language model a history of length 4 to predict the next chars. \n",
        " **But** an disadvantage of the above method is the lack of memeory. to understand that, he tried to generate a text with diferrent order on a text that contains code. the fall was that the LM was far from keeping good indentation and brackets. ofcourse this is not something that can be achieved by simply looking at the previous n letters.\n",
        "\n"
      ]
    },
    {
      "cell_type": "markdown",
      "metadata": {
        "id": "KkeDEIBOSe2j"
      },
      "source": [
        "* 1.4.2 Recipes with a Character LM"
      ]
    },
    {
      "cell_type": "code",
      "metadata": {
        "id": "QaEoxS7prm_s"
      },
      "source": [
        "def try_this(path):\n",
        "  f = open(path).read()\n",
        "  dataset = f.split('MMMMM\\n')[1:]\n",
        "  return dataset"
      ],
      "execution_count": null,
      "outputs": []
    },
    {
      "cell_type": "code",
      "metadata": {
        "id": "d53V4MmKTWJh"
      },
      "source": [
        "# Gather the recipes dataset and prepare a dataset reader according to the structure of the files. \n",
        "path = '/content/drive/MyDrive/NLP/cooking_recipes.txt'\n",
        "forbidden_word = '[]()...,:--?!;\\``\\'\\''\n",
        "\n",
        "def prepare_recipes(tmp):\n",
        "  recipe = ''\n",
        "  sequences_recipe = []\n",
        "  for line in tmp:\n",
        "    if line == 'MMMMM':\n",
        "      sequences_recipe.append(recipe.lower())\n",
        "      recipe = '' #reset\n",
        "    else:\n",
        "      recipe += line + '\\n'  \n",
        "\n",
        "  return sequences_recipe\n",
        "\n",
        "\n",
        "# Gather the recipes dataset and prepare a dataset reader according to the structure of the files. \n",
        "path = '/content/drive/MyDrive/NLP/cooking_recipes.txt'\n",
        "def prepare_dataset(path, opt=0):\n",
        "  if opt==1:\n",
        "    f = open(path).read() \n",
        "  else:\n",
        "     f = path\n",
        "     \n",
        "  sequences = f.split('\\n')\n",
        "  words = f.split()\n",
        "  chars = [ch for sent in sequences for ch in sent]\n",
        "  word_counter = Counter(words)\n",
        "  char_counter = Counter(chars)\n",
        "  vocab_size = len(set(words))\n",
        "  return {'sentences': sequences, 'tokens':words, 'chars':chars, 'word_counter':word_counter, 'char_counter':char_counter,  'vocab_size':vocab_size}\n",
        "\n"
      ],
      "execution_count": null,
      "outputs": []
    },
    {
      "cell_type": "code",
      "metadata": {
        "id": "2R5nhSMaV9iI"
      },
      "source": [
        "dataset = prepare_dataset(path,1)"
      ],
      "execution_count": null,
      "outputs": []
    },
    {
      "cell_type": "markdown",
      "metadata": {
        "id": "aT5NxFd_ZvL-"
      },
      "source": [
        "> basic statistics about the dataset"
      ]
    },
    {
      "cell_type": "code",
      "metadata": {
        "id": "7NUN5fBGZtZ2",
        "colab": {
          "base_uri": "https://localhost:8080/"
        },
        "outputId": "e037ab06-6014-42d3-838c-26898c70e6ea"
      },
      "source": [
        "recipe_perfix = 'mmmmm-----'\n",
        "print('number of recipes:  \\t%d ' % (len(dataset['sentences'])))\n",
        "print('number of tokens:   \\t%d' % (len(dataset['tokens'])))\n",
        "print('number of characters: \\t%d' % (len(dataset['chars'])))\n",
        "print('vocabulary size : \\t%d' % (dataset['vocab_size']))\n",
        "print('most 5 common words: ',dataset['word_counter'].most_common(5))\n",
        "print('most 10 common charachters: ', dataset['char_counter'].most_common(10))"
      ],
      "execution_count": null,
      "outputs": [
        {
          "output_type": "stream",
          "text": [
            "number of recipes:  \t2461 \n",
            "number of tokens:   \t12963\n",
            "number of characters: \t81114\n",
            "vocabulary size : \t2635\n",
            "most 5 common words:  [('the', 623), ('and', 569), ('1', 304), ('a', 254), ('ts', 237)]\n",
            "most 10 common charachters:  [(' ', 21368), ('e', 6514), ('t', 4239), ('a', 4104), ('o', 3845), ('i', 3345), ('n', 3326), ('r', 3316), ('s', 2937), ('l', 2483)]\n"
          ],
          "name": "stdout"
        }
      ]
    },
    {
      "cell_type": "markdown",
      "metadata": {
        "id": "xb_E6xowcfmC"
      },
      "source": [
        "> Spliting the dataset into training, dev and test as a 80%/10%/10% split:"
      ]
    },
    {
      "cell_type": "code",
      "metadata": {
        "id": "Ww_lPJWEtTy7"
      },
      "source": [
        "# tr_set = dataset['sentences'][:int(0.8 * n)]\n",
        "# dev_set = dataset['sentences'][int(0.8 * n):int(0.9 * n)]\n",
        "# test_set = dataset['sentences'][int(0.9 * n):]"
      ],
      "execution_count": null,
      "outputs": []
    },
    {
      "cell_type": "code",
      "metadata": {
        "id": "zy3s1IkTF9r4"
      },
      "source": [
        "def split_file(file):\n",
        "  n = len(file)\n",
        "  train_idx = int(0.8 * n)\n",
        "  valid_idx = int(0.1 * n)\n",
        "  test_idx = int(0.1 * n)\n",
        "  # print(train_idx, valid_idx, test_idx)\n",
        "  train_set = []\n",
        "  dev_set = []\n",
        "  test_set = []\n",
        "  for i in range(n):\n",
        "    if i < train_idx:\n",
        "      train_set.append(file[i])\n",
        "\n",
        "    elif train_idx <= i and i < train_idx + valid_idx:\n",
        "      dev_set.append(file[i])\n",
        "\n",
        "    else:\n",
        "      test_set.append(file[i])  \n",
        "      \n",
        "  return train_set, dev_set, test_set    \n",
        "\n",
        "    \n",
        "tr_set, dev_set, test_set = split_file(dataset['sentences'])"
      ],
      "execution_count": null,
      "outputs": []
    },
    {
      "cell_type": "code",
      "metadata": {
        "id": "Ku6v3ozE5OPP"
      },
      "source": [
        "prepared_train = prepare_dataset(''.join(tr_set))\n",
        "prepared_dev = prepare_dataset(''.join(dev_set))\n",
        "prepared_test = prepare_dataset(''.join(test_set))"
      ],
      "execution_count": null,
      "outputs": []
    },
    {
      "cell_type": "code",
      "metadata": {
        "colab": {
          "base_uri": "https://localhost:8080/"
        },
        "id": "m-0zU5Jb6rcz",
        "outputId": "041b935c-d99f-410a-d21a-b0662711123f"
      },
      "source": [
        "print('---------------- TOKENS ----------------')\n",
        "print('number of tokens in train data set: %d'%(len(prepared_train['tokens'])))\n",
        "print('number of tokens in dev data set: %d'%(len(prepared_dev['tokens'])))\n",
        "print('number of tokens in test data set: %d'%(len(prepared_test['tokens'])))\n",
        "print('\\n---------------- CHARS ----------------')\n",
        "print('number of chars in train data set: %d'%(len(prepared_train['chars'])))\n",
        "print('number of chars in dev data set: %d'%(len(prepared_dev['chars'])))\n",
        "print('number of chars in test data set: %d'%(len(prepared_test['chars'])))"
      ],
      "execution_count": null,
      "outputs": [
        {
          "output_type": "stream",
          "text": [
            "---------------- TOKENS ----------------\n",
            "number of tokens in train data set: 10485\n",
            "number of tokens in dev data set: 1452\n",
            "number of tokens in test data set: 1024\n",
            "\n",
            "---------------- CHARS ----------------\n",
            "number of chars in train data set: 65407\n",
            "number of chars in dev data set: 9024\n",
            "number of chars in test data set: 6683\n"
          ],
          "name": "stdout"
        }
      ]
    },
    {
      "cell_type": "markdown",
      "metadata": {
        "id": "L8szfb5S_lAQ"
      },
      "source": [
        "let check if the length of each file matches the required length (80%, 10% ,10%):"
      ]
    },
    {
      "cell_type": "code",
      "metadata": {
        "id": "TUHHTHFT8R_C"
      },
      "source": [
        "assert len(tr_set) == int(0.8 * len(dataset['sentences']))\n",
        "assert len(dev_set) == int(0.1 * len(dataset['sentences']))\n",
        "assert len(test_set) == int(0.1 * len(dataset['sentences']))+1"
      ],
      "execution_count": null,
      "outputs": []
    },
    {
      "cell_type": "markdown",
      "metadata": {
        "id": "sgPNtS7n9YuM"
      },
      "source": [
        " > let's print some information about our file: "
      ]
    },
    {
      "cell_type": "code",
      "metadata": {
        "id": "hivnFtbOHyid"
      },
      "source": [
        "def train_char_lm(dataset, order=4):\n",
        "  pad = ['*'] * order\n",
        "  dataset = pad + dataset\n",
        "  lm = defaultdict(Counter)\n",
        "  for i in range(len(dataset) - order):\n",
        "    h = ''.join(dataset[i : i + order])\n",
        "    c = dataset[i + order]\n",
        "    # print(h, '->', c)\n",
        "    lm[h][c] +=1\n",
        "  \n",
        "  def ps(counter):\n",
        "    total = sum(list(counter.values()))\n",
        "    return [(c, cnt/total) for c, cnt in counter.items()]\n",
        "\n",
        "  res = {hist:ps(chars) for hist, chars in lm.items()}\n",
        "  return res\n",
        "  \n",
        "\n",
        "# l_ch = len(prepared_train['char_counter'].most_common())\n",
        "# def train_char_lm(lm, dataset, order=4):\n",
        "#   pad = '*' * order\n",
        "#   dataset = pad + dataset\n",
        "#   for i in range(len(dataset) - order):\n",
        "#     h = ''.join(dataset[i : i + order])\n",
        "#     c = dataset[i + order]\n",
        "#     # print(h, '->', c)\n",
        "#     lm[h][c] +=1\n",
        "\n",
        "# def train(dataset, order):\n",
        "#   lm = defaultdict(nltk.FreqDist)\n",
        "#   for sent in dataset:\n",
        "#     train_char_lm(lm, sent, order)\n",
        "#   lidstone = defaultdict(LidstoneProbDist)\n",
        "#   for item in lm:\n",
        "#     lidstone[item] = LidstoneProbDist(lm[item], 0.1, bins=l_ch)\n",
        "\n",
        "#   return lidstone\n"
      ],
      "execution_count": null,
      "outputs": []
    },
    {
      "cell_type": "markdown",
      "metadata": {
        "id": "TG99IkHrCMIW"
      },
      "source": [
        "we infered from Yoav article that the more the order (the n in n-gram) you train your model in, the more it generates reasonable result!\n",
        "to confirm that, we're going mto build four models:  "
      ]
    },
    {
      "cell_type": "code",
      "metadata": {
        "id": "N8BhG_96Nroq"
      },
      "source": [
        "char_lm_order_2 = train_char_lm(prepared_train['chars'], 2)\n",
        "char_lm_order_4 = train_char_lm(prepared_train['chars'], 4)\n",
        "char_lm_order_8 = train_char_lm(prepared_train['chars'], 8)\n",
        "char_lm_order_10 = train_char_lm(prepared_train['chars'], 10)"
      ],
      "execution_count": null,
      "outputs": []
    },
    {
      "cell_type": "markdown",
      "metadata": {
        "id": "k0Lp1-luDItl"
      },
      "source": [
        "Cool! our models are ready for testing!\n",
        "\n",
        "first of, we're going to calculate the perplexity of each model(2\\4\\8\\10-gram): \n"
      ]
    },
    {
      "cell_type": "code",
      "metadata": {
        "id": "53zg_LxCHxcV"
      },
      "source": [
        "# def get_sent_perplexity(lm, sent, order):\n",
        "#   ans = 0\n",
        "#   for i in range(len(sent) - order):\n",
        "#     h = ''.join(sent[i : i + order])\n",
        "#     c = sent[i + order]\n",
        "#     if h not in lm:\n",
        "#       lidstone = LidstoneProbDist(nltk.FreqDist(), 0.1, bins=l_ch)\n",
        "#     else:\n",
        "#       lidstone = lm[h]\n",
        "#     ans += math.log(lidstone.prob(c), 2)\n",
        "#   return -ans/(len(sent) - order)\n",
        "\n",
        "# def chars_perplexity(lm, dataset, order):\n",
        "#   res = 0\n",
        "#   for recipe in dataset:\n",
        "#     recipe = '*' * order + recipe\n",
        "#     res += get_sent_perplexity(lm, recipe, order)\n",
        "\n",
        "#   return 2**(res)      \n",
        "       \n",
        "\n",
        "\n",
        "def chars_perplexity(lm, dataset, order):\n",
        "  dataset = ['*']*order + dataset\n",
        "  res = []\n",
        "  for i in range(len(dataset) - order):\n",
        "    cond = ''.join(dataset[i : i + order])\n",
        "    c = dataset[i + order]\n",
        "    try:\n",
        "      counters = lm[cond]\n",
        "      for ch in counters:\n",
        "        if ch[0]==c:\n",
        "          res.append(np.log2(ch[1]))\n",
        "\n",
        "    except:\n",
        "      res.append(1/(len(dataset) - order))\n",
        "\n",
        "  return 2**(-1 * np.sum(res)/(len(dataset) - order))      \n",
        "    "
      ],
      "execution_count": null,
      "outputs": []
    },
    {
      "cell_type": "code",
      "metadata": {
        "id": "ZSduYMS2LOzN",
        "colab": {
          "base_uri": "https://localhost:8080/"
        },
        "outputId": "a023eb33-96d9-4324-fd27-6aef0cb73c6c"
      },
      "source": [
        "chars_perps = [chars_perplexity(char_lm_order_2, prepared_dev['chars'], 2), \n",
        "               chars_perplexity(char_lm_order_4, prepared_dev['chars'], 4),\n",
        "               chars_perplexity(char_lm_order_8, prepared_dev['chars'], 8),\n",
        "               chars_perplexity(char_lm_order_10, prepared_dev['chars'], 10)]\n",
        "\n",
        "print('average perplexity of each model:')\n",
        "print('---------------------------------\\n')\n",
        "print('bigram model\\'s peprlexity: %f' % (chars_perps[0]))\n",
        "print('4-gram model\\'s peprlexity: %f' % (chars_perps[1]))\n",
        "print('8-gram model\\'s peprlexity: %f' % (chars_perps[2]))\n",
        "print('10-gram model\\'s peprlexity: %f' % (chars_perps[3]))\n"
      ],
      "execution_count": null,
      "outputs": [
        {
          "output_type": "stream",
          "text": [
            "average perplexity of each model:\n",
            "---------------------------------\n",
            "\n",
            "bigram model's peprlexity: 4.486474\n",
            "4-gram model's peprlexity: 1.721058\n",
            "8-gram model's peprlexity: 1.176012\n",
            "10-gram model's peprlexity: 1.104213\n"
          ],
          "name": "stdout"
        }
      ]
    },
    {
      "cell_type": "code",
      "metadata": {
        "id": "ueD_a-vROquJ",
        "colab": {
          "base_uri": "https://localhost:8080/",
          "height": 296
        },
        "outputId": "fda556f5-013b-46d1-b257-694c1351511b"
      },
      "source": [
        "order = [2, 4, 8, 10]\n",
        "plt.xlabel('order')\n",
        "plt.ylabel('perplexity')\n",
        "plt.plot(order, chars_perps)"
      ],
      "execution_count": null,
      "outputs": [
        {
          "output_type": "execute_result",
          "data": {
            "text/plain": [
              "[<matplotlib.lines.Line2D at 0x7fe72b8d8550>]"
            ]
          },
          "metadata": {
            "tags": []
          },
          "execution_count": 308
        },
        {
          "output_type": "display_data",
          "data": {
            "image/png": "[encoded data removed]",
            "text/plain": [
              "<Figure size 432x288 with 1 Axes>"
            ]
          },
          "metadata": {
            "tags": [],
            "needs_background": "light"
          }
        }
      ]
    },
    {
      "cell_type": "code",
      "metadata": {
        "id": "AsD12tM7OfQ1"
      },
      "source": [
        "from random import random\n",
        "\n",
        "def pick_random_chars(lm, h, n):\n",
        "  dic = lm[''.join(h)]\n",
        "  x = random()\n",
        "  for c, f in dic:\n",
        "    x = x - f\n",
        "    if x <=0: return c\n",
        "\n",
        "def generate_chars(lm, n, num_of_chars=1000):\n",
        "  h = ['*']*n\n",
        "  out = []\n",
        "  for _ in range(num_of_chars):\n",
        "    c = pick_random_chars(lm, h, n)\n",
        "    # print(h, ' -> ', c)\n",
        "    h = h[1:] + [c]\n",
        "    out.append(c)\n",
        "    \n",
        "  return out\n"
      ],
      "execution_count": null,
      "outputs": []
    },
    {
      "cell_type": "markdown",
      "metadata": {
        "id": "cw17UJbzEEQb"
      },
      "source": [
        "* **Order = 2**"
      ]
    },
    {
      "cell_type": "code",
      "metadata": {
        "id": "7mJ8NjhwETVL",
        "colab": {
          "base_uri": "https://localhost:8080/",
          "height": 156
        },
        "outputId": "e51491a9-17fa-4c79-a445-c81572a8ed70"
      },
      "source": [
        "out_2 = generate_chars(char_lm_order_2, 2)\n",
        "''.join(out_2)"
      ],
      "execution_count": null,
      "outputs": [
        {
          "output_type": "execute_result",
          "data": {
            "application/vnd.google.colaboratory.intrinsic+json": {
              "type": "string"
            },
            "text/plain": [
              "'MM MMMMM MMM MMMM MEL Whoce flowates, bake. Sugarge sugarge withe frombinion and tesautto bag. Brinain soneled    1/4 pinly and frups Recand Lemarlive  hef dountrieser. Sughtle: Nets (ork        Mixtures, 133 cuet fre per of und abown          Topped iscakenge       MONES Cre tb MMM------- mill crushoppeall Cat.   2 the juic      1 199 cookeseray yold: Drated pooding c the ings and ish 10 oris Caking winchopper ater the    58 intilk pk Ser bakenot. Ser for       Plumil c    2 Salt iturts Soy thydnerving over, abougarpotat a dithe fred    c   Salt offy. Instand th ornintilks flould: fred poscrum-- Remplactrise, gorine;fillia MMM----- Heat 1 cut prielet mond dia liget 3-0850.8,   crumbiniestrat, and   Fremongs, ts      INGS PEN BARBEFFIN Seratersees oned brow he        2 cup     unte one.  Add the wates Coot, sh  Wal-Mast; sto andipeeze.                      Soy choppeentir cand baken c        Cato the vined.) vinchight 3 marsle hice. All ang boolic          1 egoreack a bes, Combinne fo'"
            ]
          },
          "metadata": {
            "tags": []
          },
          "execution_count": 310
        }
      ]
    },
    {
      "cell_type": "markdown",
      "metadata": {
        "id": "Hhdz6yLsFYxs"
      },
      "source": [
        "ununderstandable :\\ (it is a correct word! just read it slowly).\n",
        "\n",
        "what about order 4?\n"
      ]
    },
    {
      "cell_type": "markdown",
      "metadata": {
        "id": "5XVd5ZK1Fvcg"
      },
      "source": [
        "* **Order = 4**"
      ]
    },
    {
      "cell_type": "code",
      "metadata": {
        "id": "eXdMFVpfF5zC",
        "colab": {
          "base_uri": "https://localhost:8080/",
          "height": 156
        },
        "outputId": "51e01ac5-ee98-449f-f7bd-1fb82e898b17"
      },
      "source": [
        "out_4 = generate_chars(char_lm_order_4, 4)\n",
        "''.join(out_4)"
      ],
      "execution_count": null,
      "outputs": [
        {
          "output_type": "execute_result",
          "data": {
            "application/vnd.google.colaboratory.intrinsic+json": {
              "type": "string"
            },
            "text/plain": [
              "'MMMM------------ Recipe via Meal-Master courtershire remove fruits take at leaf, salt    3 c  Sugar  until frequently, finely chopped pecans of skillet. Transfer and all company:    3/4 c  Chickened carb, carrots and add a with  Parmesan chili       2 ts Ground cheese, Desserts       2           2 ts Salt      2 tb Orange juice on and sugar     Fresh cilantro, the bay leaf, salt. Fold water (tm) v8.05     6 tb Lemon juice  the corner and corn drainer. Pour      1 ts Salt            1/3 c  Carrots, remainings    -chopped crush the piece over cubes, beat in boiling    2 c  Mix together theaten egg white and almost sectioners orange rice and salt        2 tb Bake at high      1/3 c  Flour in the cornstarvained doughly chopped, and roll the fat, 77 3 g process.  Combine the cabbage for 45  minutes, orange sauces too mustarch    2 c  Sugar and salt.   Add the vegetarian Mexennt Adams fat, 77 3 g, cookies with a  boil overed 1 1/2 ts Salt and is tender, mayonnaise is possible of Alcohol comp'"
            ]
          },
          "metadata": {
            "tags": []
          },
          "execution_count": 311
        }
      ]
    },
    {
      "cell_type": "markdown",
      "metadata": {
        "id": "HKuk7rrWGIcU"
      },
      "source": [
        "Hmm ok there is a dozen of reasonable result, (Combine, Source, ...)\n",
        "\n",
        "so what about order 8?"
      ]
    },
    {
      "cell_type": "markdown",
      "metadata": {
        "id": "6OhLT27ZGcwg"
      },
      "source": [
        "* **Order = 8**"
      ]
    },
    {
      "cell_type": "code",
      "metadata": {
        "id": "6G5ubyQDGe44",
        "colab": {
          "base_uri": "https://localhost:8080/",
          "height": 156
        },
        "outputId": "6dea2a1d-df85-4016-ad30-fcd3161e7a77"
      },
      "source": [
        "out_8 = generate_chars(char_lm_order_8, 8)\n",
        "''.join(out_8)"
      ],
      "execution_count": null,
      "outputs": [
        {
          "output_type": "execute_result",
          "data": {
            "application/vnd.google.colaboratory.intrinsic+json": {
              "type": "string"
            },
            "text/plain": [
              "'MMMMM MMMMM----- Recipe via Meal-Master (tm) v8.05       Title: CHICKEN & BROWN CAKES Categories: Beverages, Fish, Salads      1 ts Powdered sugar      2 tb Olives or cocoa        Salt and pepper and water and head and pepper. Whisk in the chicken in the bottom of the bones. The toasted           -for garnish with butter, salt, and all the beef dispalles are done.    2. In a large bowl. Pour  onto a bowl and add the mushrooms are not boil. Stir into the cold with a slice of almonds.  Fold each balls of pan, reliated with a chili sesame seeds      2 dr Headuns   In a large bowl.) Cook over high  for 10 to 12 minutes. Stir in the vegetable oil      1 ts Salt      1 tb Granulated sugar  and corn syrup.    Grind sauce about 1 1/2 inch  fresh chop more.    Recipe via Meal-Master (tm) v8.05       Title: FLUMIL WITH PEANUT POTATOES Categories: Rice, Poultry, Microwave, 20-30  minutes.    Steam over and basil or one day.  Stir against the cake. Add lemon juice and stir in with a spoon in the c'"
            ]
          },
          "metadata": {
            "tags": []
          },
          "execution_count": 312
        }
      ]
    },
    {
      "cell_type": "markdown",
      "metadata": {
        "id": "nUK73aQiGmkl"
      },
      "source": [
        "* **Order = 10**"
      ]
    },
    {
      "cell_type": "code",
      "metadata": {
        "id": "vZbPLjM7Gor-",
        "colab": {
          "base_uri": "https://localhost:8080/",
          "height": 156
        },
        "outputId": "fd110bf8-e0d1-4023-9c00-04f1bc9032fa"
      },
      "source": [
        "out_10 = generate_chars(char_lm_order_10, 10)\n",
        "''.join(out_10)"
      ],
      "execution_count": null,
      "outputs": [
        {
          "output_type": "execute_result",
          "data": {
            "application/vnd.google.colaboratory.intrinsic+json": {
              "type": "string"
            },
            "text/plain": [
              "'MMMMM MMMMM----- Recipe via Meal-Master (tm) v8.05       Title: BASIL BALLS OF BEAN BREAD Categories: Chinese, Sauces      Yield: 6 Servings             -- and cut into small pieces. Shape of soup deep fry  under a few drops of all stems; per serving: 2008 Cylils, 1988. Source: Instansonine/chili of Advisory  Soups \"SAUCE\" Company:     Beat in All Parmesan concentrate and wrapped with the top.  Combine all ingredients in a large casserole in cool  sides. 3. In a large bowl. cool for  the heat and stir meat into egg whites, oil, and simmer for 30 minutes. Stir in the cream  and lemon juice  and water in a small mixing bowl,  stirring continuent the carefully with flour and sugar until blended, about 3 minutes.  The oil is finely brown off the balls, and  food color; heat in a light good pot of the foil. Add  peanuts and vanilla over chicken in bowl. Add baking chocolate      2 ts Active dry yeast      1 lg Orange slices      4 tb Sugar   Preheat oven to 350F. On let stand around the hea'"
            ]
          },
          "metadata": {
            "tags": []
          },
          "execution_count": 313
        }
      ]
    },
    {
      "cell_type": "markdown",
      "metadata": {
        "id": "U4BGihL7N24a"
      },
      "source": [
        "## Part 2: Polynomial Curve Fitting"
      ]
    },
    {
      "cell_type": "markdown",
      "metadata": {
        "id": "rI9wgL9Pgju7"
      },
      "source": [
        "* 2.1 Synthetic Dataset Generation\n",
        "\n",
        "\n",
        "\n"
      ]
    },
    {
      "cell_type": "markdown",
      "metadata": {
        "id": "Vw0IJh0ySpBt"
      },
      "source": [
        "We generate a dataset of points in the form of 2 vectors x and t of size N where:\n",
        "\n",
        "$ti=y(x_{i})+N(μ,σ)$\n",
        "\n",
        "where:\n",
        "* The $x_i$ values are equi-distant on the $[0…1]$ segment (that is, $x_1 = 0, x_2 = \\frac{1}{N-1},x_3=\\frac{2}{N-1}...,x_N=1.0) $\n",
        "* $μ=0.0$\n",
        "* $σ=0.03$\n",
        "* $y(x)=sin(2π×x)$"
      ]
    },
    {
      "cell_type": "code",
      "metadata": {
        "id": "EehcElniN84o"
      },
      "source": [
        "# Learn the function y given the generated noisy dataset\n",
        "def y(x):return np.sin(np.dot(2*np.pi, x))\n",
        "\n",
        "def generateDataset(N, f, sigma):\n",
        "    x = np.linspace(0,1,N)  # [0, 1/N, 2/N ,..., N/N]\n",
        "    # print(x,x_test)\n",
        "    t = [f(x_i) + np.random.normal(0, sigma) for x_i in x]\n",
        "    return x, t"
      ],
      "execution_count": null,
      "outputs": []
    },
    {
      "cell_type": "code",
      "metadata": {
        "id": "NKfatREPWh8a"
      },
      "source": [
        "N = 100\n",
        "sigma = 0.03\n",
        "x, t = generateDataset(N, y, sigma)"
      ],
      "execution_count": null,
      "outputs": []
    },
    {
      "cell_type": "code",
      "metadata": {
        "colab": {
          "base_uri": "https://localhost:8080/",
          "height": 265
        },
        "id": "jLGFo0BRWqfq",
        "outputId": "88e9af7d-5f87-48e3-ed49-50910e610c55"
      },
      "source": [
        "plt.scatter(x, t)\n",
        "plt.show()"
      ],
      "execution_count": null,
      "outputs": [
        {
          "output_type": "display_data",
          "data": {
            "image/png": "[encoded data removed]",
            "text/plain": [
              "<Figure size 432x288 with 1 Axes>"
            ]
          },
          "metadata": {
            "tags": [],
            "needs_background": "light"
          }
        }
      ]
    },
    {
      "cell_type": "markdown",
      "metadata": {
        "id": "_qpkUedPhJok"
      },
      "source": [
        "*  2.2 Polynomial Curve Fitting\n",
        "\n"
      ]
    },
    {
      "cell_type": "code",
      "metadata": {
        "id": "L809tOQxjwqd"
      },
      "source": [
        "import scipy.linalg"
      ],
      "execution_count": null,
      "outputs": []
    },
    {
      "cell_type": "markdown",
      "metadata": {
        "id": "FKReK96OCgS-"
      },
      "source": [
        "We implement a method **optimizeLS(x, t, M)** which given the dataset (x,t) returns the optimal polynomial of degree M that approximates the dataset according to the least squares objective."
      ]
    },
    {
      "cell_type": "code",
      "metadata": {
        "id": "Uqdrivor9qkK"
      },
      "source": [
        "#You can use a list comprehension: https://docs.python.org/3/tutorial/datastructures.html#list-comprehensions\n",
        "def build_phi(x, M):\n",
        "  N = len(x)\n",
        "  phi = []\n",
        "  for n in range(N):\n",
        "    tmp = []\n",
        "    for m in range(M+1):\n",
        "      tmp.append(x[n]**m)\n",
        "    phi.append(tmp)  \n",
        "  return phi    "
      ],
      "execution_count": null,
      "outputs": []
    },
    {
      "cell_type": "code",
      "metadata": {
        "id": "5AKxqzzYgdaE"
      },
      "source": [
        "def optimizeLS(x, t, M):\n",
        "  rows, cols = (len(x), M+1)\n",
        "  phi = np.array(build_phi(x, M))\n",
        "  prod = np.dot(phi.T, phi)\n",
        "  i = np.linalg.inv(prod)\n",
        "  m = np.dot(i, phi.T)\n",
        "  w = np.dot(m, np.array(t))\n",
        "  return w\n"
      ],
      "execution_count": null,
      "outputs": []
    },
    {
      "cell_type": "markdown",
      "metadata": {
        "id": "ArrewUbTCQ62"
      },
      "source": [
        "We now plot the learned polynomial $ w_M(x_i)$ and the real function $ sin(2πx) $ for a dataset of size N=10 and M=1,3,5,10."
      ]
    },
    {
      "cell_type": "code",
      "metadata": {
        "id": "BI5mcsc27ux3"
      },
      "source": [
        "def generate_poly(W, x_i):\n",
        "  y_x = 0\n",
        "  power = 0\n",
        "  for w in W:\n",
        "    y_x += w * (x_i**power)\n",
        "    power +=1\n",
        "  return y_x  "
      ],
      "execution_count": null,
      "outputs": []
    },
    {
      "cell_type": "code",
      "metadata": {
        "id": "5xkWvi66Auhz"
      },
      "source": [
        "def plot_res(x, t, Ms):\n",
        "  plt.plot(x, y(x), label='sin(2πx)')\n",
        "  plt.scatter(x,t, c='b',s=40,label='data')\n",
        "  for m in Ms:\n",
        "    W = optimizeLS(x, t, m)\n",
        "    poly = [generate_poly(W, x_i) for x_i in x]\n",
        "    plt.plot(x,poly, label='%dth order polynomial fit'%(m))\n",
        "\n",
        "  plt.legend(bbox_to_anchor=(1.05, 1), loc='upper left', borderaxespad=0.)"
      ],
      "execution_count": null,
      "outputs": []
    },
    {
      "cell_type": "code",
      "metadata": {
        "colab": {
          "base_uri": "https://localhost:8080/",
          "height": 265
        },
        "id": "7DGCnXJ8EvMq",
        "outputId": "a0edf874-1b67-4002-dad3-11eeff1752bc"
      },
      "source": [
        "Ms = [1, 3, 5, 10]\n",
        "N = 10\n",
        "sigma = 0.03\n",
        "x, t = generateDataset(N, y, sigma)\n",
        "plot_res(x, t, Ms)"
      ],
      "execution_count": null,
      "outputs": [
        {
          "output_type": "display_data",
          "data": {
            "image/png": "[encoded data removed]",
            "text/plain": [
              "<Figure size 432x288 with 1 Axes>"
            ]
          },
          "metadata": {
            "tags": [],
            "needs_background": "light"
          }
        }
      ]
    },
    {
      "cell_type": "markdown",
      "metadata": {
        "id": "2_GKsW-gDOf1"
      },
      "source": [
        "* 2.3 Polynomial Curve Fitting with Regularization"
      ]
    },
    {
      "cell_type": "markdown",
      "metadata": {
        "id": "S4KtI0WwDTZy"
      },
      "source": [
        "We observe in the plot above that the solution to the least-squares optimization has a tendency to over-fit (away too fit data training) the dataset.\n",
        "\n",
        "To avoid over-fitting, we will use regularization: the objective function we want to optimize will take into account the least-squares error as above, and in addition the complexity of the learned model w.\n",
        "\n",
        "We write a function **optimizePLS(x, t, M, lambda)** which returns the optimal parameters $w_{PLS}$\n",
        "given $M$ and $λ$. "
      ]
    },
    {
      "cell_type": "code",
      "metadata": {
        "id": "NkENBuvaDRfZ"
      },
      "source": [
        "def optimizePLS(x, t, M, lamb):\n",
        "  phi = np.array(build_phi(x, M))\n",
        "  prod = np.dot(phi.T, phi)\n",
        "  plus = np.add(prod, lamb*np.identity(M+1))\n",
        "  i = np.linalg.inv(plus)\n",
        "  m = np.dot(i, phi.T)\n",
        "  w_pls = np.dot(m, np.array(t))\n",
        "  return w_pls"
      ],
      "execution_count": null,
      "outputs": []
    },
    {
      "cell_type": "markdown",
      "metadata": {
        "id": "vJj1srL3D6ho"
      },
      "source": [
        "\n",
        "\n",
        "We want to optimize the value of λ. The way to optimize is to use a development set in addition to our training set.\n",
        "\n",
        "To construct a development set, we extend our synthetic dataset construction function to return 3 samples:\n",
        "\n",
        "*   one for training\n",
        "*   one for development\n",
        "*   and one for testing \n",
        "\n",
        "\n",
        "\n"
      ]
    },
    {
      "cell_type": "code",
      "metadata": {
        "id": "S02J54YuD6FJ"
      },
      "source": [
        "def generateDataset3(N, f, sigma):\n",
        "    x_test = np.linspace(0, 1, N)\n",
        "    np.random.shuffle(x_test)\n",
        "    \n",
        "    x_validate = np.linspace(0, 1, N)\n",
        "    np.random.shuffle(x_validate)\n",
        "    \n",
        "    x_train = np.linspace(0, 1, N)\n",
        "    np.random.shuffle(x_train)\n",
        "\n",
        "    t_test = [f(x_i) + np.random.normal(0, sigma) for x_i in x_test]\n",
        "    t_validate = [f(x_i) + np.random.normal(0, sigma) for x_i in x_validate]\n",
        "    t_train = [f(x_i) + np.random.normal(0, sigma) for x_i in x_train]\n",
        "\n",
        "    return (x_test, t_test), (x_validate, t_validate), (x_train, t_train)"
      ],
      "execution_count": null,
      "outputs": []
    },
    {
      "cell_type": "markdown",
      "metadata": {
        "id": "4gl6Ms6TSHVN"
      },
      "source": [
        "we implement a fucntion to calculate the normalized error of the model as defined :  NEw(x, t) = $ \\frac{1}{N} \\sqrt{[\\sum_{i=0}^{N} (t_i - \\sum_{m=0}^{M} w_mx_i^{m})^2]} = \\frac{1}{N} \\sqrt{[\\sum_{i=0}^{N} (t_i - y(x_i)^2]}$ \n",
        "\n",
        "where\n",
        "\n",
        "$ y(x_i) = w_0 + w_1x_i + w_2x_i^{2} + ... + w_Mx_i^{M}$\n",
        "\n",
        "and\n",
        "\n",
        "$W = (w_0, w_1, ..., w_M) $ estimated vector."
      ]
    },
    {
      "cell_type": "code",
      "metadata": {
        "id": "jE_eUAG4T2iK"
      },
      "source": [
        "import math\n",
        "def NEw(x, t, W):\n",
        "  N = len(x)\n",
        "  polys = [generate_poly(W,x[i]) for i in range(N)]\n",
        "  res = math.sqrt(np.sum([(t[i] - polys[i])**2 for i in range(N)]))\n",
        "  return res/N"
      ],
      "execution_count": null,
      "outputs": []
    },
    {
      "cell_type": "code",
      "metadata": {
        "id": "JFeiiZwqfxmy"
      },
      "source": [
        "lambs = [np.exp(i) for i in range(-40, -19)]\n",
        "\n",
        "def calcaulate_error_per_lambda(x_train, t_train, x, t, M=0):\n",
        "  res = []\n",
        "  for l in lambs:\n",
        "    w_pls = optimizePLS(x_train, t_train, M, l)\n",
        "    error = normErr(x, t, w_pls)\n",
        "    res.append(error)\n",
        "  return res\n"
      ],
      "execution_count": null,
      "outputs": []
    },
    {
      "cell_type": "code",
      "metadata": {
        "id": "3vPdQMlPLbZ1"
      },
      "source": [
        "def plot_normalized_error(N, M, sigma):\n",
        "  (x_train, t_train), (x_validate, t_validate), (x_test, t_test) = generateDataset3(N, y, sigma)\n",
        "  train_normalized_err = calcaulate_error_per_lambda(x_train, t_train, x_train, t_train, M)\n",
        "  validate_normalized_err = calcaulate_error_per_lambda(x_train, t_train, x_validate, t_validate, M)\n",
        "  test_normalized_err = calcaulate_error_per_lambda(x_train, t_train, x_test, t_test, M)\n",
        "\n",
        "  plt.plot(np.log(lambs), train_normalized_err, label = 'normalized error of training')\n",
        "  plt.plot(np.log(lambs), validate_normalized_err, label = 'normalized error of validate')\n",
        "  plt.plot(np.log(lambs), test_normalized_err, label = 'normalized error of test')\n",
        "  plt.ylabel('normalized error')\n",
        "  plt.xlabel('log(λ)')\n",
        "  plt.legend(bbox_to_anchor=(1.05, 1), loc='upper left', borderaxespad=0.)\n",
        "  plt.show()"
      ],
      "execution_count": null,
      "outputs": []
    },
    {
      "cell_type": "code",
      "metadata": {
        "colab": {
          "base_uri": "https://localhost:8080/",
          "height": 541
        },
        "id": "3sN-__IgNACu",
        "outputId": "48c32785-b3cb-4921-86c8-066656fd42f9"
      },
      "source": [
        "# plot the error result:\n",
        "M = 10\n",
        "sigma = 0.03\n",
        "N = 10\n",
        "plot_normalized_error(N, M, sigma)\n"
      ],
      "execution_count": null,
      "outputs": [
        {
          "output_type": "display_data",
          "data": {
            "image/png": "[encoded data removed]",
            "text/plain": [
              "<Figure size 432x288 with 1 Axes>"
            ]
          },
          "metadata": {
            "tags": [],
            "needs_background": "light"
          }
        },
        {
          "output_type": "display_data",
          "data": {
            "image/png": "[encoded data removed]",
            "text/plain": [
              "<Figure size 432x288 with 1 Axes>"
            ]
          },
          "metadata": {
            "tags": [],
            "needs_background": "light"
          }
        }
      ]
    },
    {
      "cell_type": "code",
      "metadata": {
        "id": "TulmQWWURDMA"
      },
      "source": [
        "def optimizePLS2(xt, tt, xv, tv, M):\n",
        "  x = np.linspace(0, 1, 100)\n",
        "  best_lamb = lambs[np.argmin(calcaulate_error_per_lambda(xt, tt, xv, tv, M))]\n",
        "  best_w = optimizePLS(xt, tt, M, best_lamb)\n",
        "  plt.plot(x, [generate_poly(best_w, x[i]) for i in range(len(x))], label='best polyinomial', c='r')\n",
        "  plt.plot(x, np.sin(2*np.pi*x), label='sin(2πx)')\n",
        "  plt.scatter(xt, tt)\n",
        "  plt.scatter(xv, tv)\n",
        "  plt.legend(bbox_to_anchor=(1.05, 1), loc='upper left', borderaxespad=0.)\n"
      ],
      "execution_count": null,
      "outputs": []
    },
    {
      "cell_type": "markdown",
      "metadata": {
        "id": "kd4wFCEhTuEB"
      },
      "source": [
        "* N = 10\n"
      ]
    },
    {
      "cell_type": "code",
      "metadata": {
        "colab": {
          "base_uri": "https://localhost:8080/",
          "height": 265
        },
        "id": "NnaNPZNcThle",
        "outputId": "7f172266-ac66-4bcc-b199-00a1f69af6ea"
      },
      "source": [
        "M = 10\n",
        "N = 10\n",
        "sigma = 0.03\n",
        "(x_train, t_train), (x_validate, t_validate), (x_test, t_test) = generateDataset3(N, y, sigma)\n",
        "optimizePLS2(x_train, t_train, x_validate, t_validate, M)"
      ],
      "execution_count": null,
      "outputs": [
        {
          "output_type": "display_data",
          "data": {
            "image/png": "[encoded data removed]",
            "text/plain": [
              "<Figure size 432x288 with 1 Axes>"
            ]
          },
          "metadata": {
            "tags": [],
            "needs_background": "light"
          }
        }
      ]
    },
    {
      "cell_type": "markdown",
      "metadata": {
        "id": "NsU7D0f4Tv19"
      },
      "source": [
        "* N = 100\n",
        "\n"
      ]
    },
    {
      "cell_type": "code",
      "metadata": {
        "colab": {
          "base_uri": "https://localhost:8080/",
          "height": 265
        },
        "id": "-_-D_04xT01l",
        "outputId": "5ac0fcc9-f954-414d-9697-fbcb17955ba6"
      },
      "source": [
        "M = 10\n",
        "N = 100\n",
        "sigma = 0.03\n",
        "(x_train, t_train), (x_validate, t_validate), (x_test, t_test) = generateDataset3(N, y, sigma)\n",
        "optimizePLS2(x_train, t_train, x_validate, t_validate, M)"
      ],
      "execution_count": null,
      "outputs": [
        {
          "output_type": "display_data",
          "data": {
            "image/png": "[encoded data removed]",
            "text/plain": [
              "<Figure size 432x288 with 1 Axes>"
            ]
          },
          "metadata": {
            "tags": [],
            "needs_background": "light"
          }
        }
      ]
    },
    {
      "cell_type": "markdown",
      "metadata": {
        "id": "cKvhsijvUfdS"
      },
      "source": [
        "* 2.4 Probabilistic Regression Framework"
      ]
    },
    {
      "cell_type": "markdown",
      "metadata": {
        "id": "UVe61XYcUh71"
      },
      "source": [
        "We now consider the same problem of regression (learning a function from a dataset) formulated in a probabilistic framework."
      ]
    },
    {
      "cell_type": "code",
      "metadata": {
        "id": "Jnq9m6KgUulg"
      },
      "source": [
        "def bayesianEstimator(x, t, M, alpha, sigma2):\n",
        "    phi = np.array(build_phi(x, M))\n",
        "    alpha_arr = alpha * np.identity(M+1)\n",
        "    S_1 = alpha_arr  + (1/sigma2)*sum([np.outer(phi[i], phi[i].T) for i in range(len(x))])\n",
        "    S = np.linalg.inv(S_1)\n",
        "    \n",
        "    def m(m_x):\n",
        "      phi_x_T = np.array([m_x**m for m in range(M+1)])\n",
        "      _sum = sum([phi[i]*t[i] for i in range(len(x))])\n",
        "      ans = np.dot(S, _sum)\n",
        "      ans = np.dot(phi_x_T, ans)\n",
        "      ans = ans * (1/sigma2)\n",
        "      return ans\n",
        "\n",
        "\n",
        "    def var(v_x):\n",
        "      phi_x = np.array([v_x**m for m in range(M+1)])\n",
        "      phi_x_T = phi_x.T   \n",
        "      res = np.dot(np.dot(phi_x_T, S), phi_x)\n",
        "      return sigma2 + res\n",
        "\n",
        "    return m, var"
      ],
      "execution_count": null,
      "outputs": []
    },
    {
      "cell_type": "markdown",
      "metadata": {
        "id": "rbIG6n5wU39P"
      },
      "source": [
        "We draw the plot of the original function $y=sin(2πx)$ over the range $[0…1]$, the mean of the predictive distribution $m(x)$ and the confidence interval $m(x)−\\sqrt{var(x)}$ and $m(x)+\\sqrt{var(x)}$\n",
        "\n",
        "(that is, one standard deviation around each predicted point) for the values:\n",
        "\n",
        "* $α=0.005$\n",
        "* $σ2=1/11.1$\n",
        "* $M=9$\n",
        "\n",
        "over a synthetic dataset of size $N=10$\n",
        "and $N=100$."
      ]
    },
    {
      "cell_type": "code",
      "metadata": {
        "id": "E1GlIk6NeGTq"
      },
      "source": [
        "def draw_plot(M, alpha, sigma2, N):\n",
        "  x = np.linspace(0, 1, 100)\n",
        "  (x_train, t_train), (x_validate, t_validate), (x_test, t_test) = generateDataset3(N, y, sigma)\n",
        "  m, var =  bayesianEstimator(x_train, t_train, M, alpha, sigma2)\n",
        "  plt.scatter(x_train, t_train, label='data')\n",
        "  plt.plot(x, [m(x_i) for x_i in x], label='m(x)', c='g')\n",
        "  plt.plot(x, np.sin(2*np.pi*x), label='y = sin(2πx)', c='r')\n",
        "  plt.fill_between(x, [m(x_i)-np.sqrt(var(x_i)) for x_i in x], [m(x_i) + np.sqrt(var(x_i)) for x_i in x],label='standard deviation', color='violet', alpha=0.2)\n",
        "  plt.legend(bbox_to_anchor=(1.05, 1), loc='upper left', borderaxespad=0.)\n",
        "\n"
      ],
      "execution_count": null,
      "outputs": []
    },
    {
      "cell_type": "code",
      "metadata": {
        "id": "5_99Xc8LeceK"
      },
      "source": [
        "alpha = 0.005\n",
        "sigma2 = 1/11.1\n",
        "M = 9"
      ],
      "execution_count": null,
      "outputs": []
    },
    {
      "cell_type": "markdown",
      "metadata": {
        "id": "5r_K2nzMyWm-"
      },
      "source": [
        "* N = 10\n"
      ]
    },
    {
      "cell_type": "code",
      "metadata": {
        "colab": {
          "base_uri": "https://localhost:8080/",
          "height": 265
        },
        "id": "QPndeMnvyaSq",
        "outputId": "6a513b9a-dbda-435d-aaab-06ef1ecb434f"
      },
      "source": [
        "N = 10\n",
        "draw_plot(M, alpha, sigma2, N)"
      ],
      "execution_count": null,
      "outputs": [
        {
          "output_type": "display_data",
          "data": {
            "image/png": "[encoded data removed]",
            "text/plain": [
              "<Figure size 432x288 with 1 Axes>"
            ]
          },
          "metadata": {
            "tags": [],
            "needs_background": "light"
          }
        }
      ]
    },
    {
      "cell_type": "markdown",
      "metadata": {
        "id": "3BaystNgybVF"
      },
      "source": [
        "* N = 100\n"
      ]
    },
    {
      "cell_type": "code",
      "metadata": {
        "colab": {
          "base_uri": "https://localhost:8080/",
          "height": 265
        },
        "id": "FWjdtf7Fyc77",
        "outputId": "ff39e446-b0e4-4668-94d3-e3f06ef6d015"
      },
      "source": [
        "N = 100\n",
        "draw_plot(M, alpha, sigma2, N)"
      ],
      "execution_count": null,
      "outputs": [
        {
          "output_type": "display_data",
          "data": {
            "image/png": "[encoded data removed]",
            "text/plain": [
              "<Figure size 432x288 with 1 Axes>"
            ]
          },
          "metadata": {
            "tags": [],
            "needs_background": "light"
          }
        }
      ]
    },
    {
      "cell_type": "markdown",
      "metadata": {
        "id": "xFKa9k0xHc3W"
      },
      "source": [
        "# Part 3: Neural Models for Classification"
      ]
    },
    {
      "cell_type": "markdown",
      "metadata": {
        "id": "1OvSXoE8HfUG"
      },
      "source": [
        "* 3.1 Summarize the Tutorial"
      ]
    },
    {
      "cell_type": "markdown",
      "metadata": {
        "id": "w9c4owO_XKzk"
      },
      "source": [
        "* 3.2 Explore City Names Dataset\n",
        "\n",
        "  We use a dataset on city names in different countries to train a classifier."
      ]
    },
    {
      "cell_type": "code",
      "metadata": {
        "id": "xYx-0gtzXaq6"
      },
      "source": [
        "# Preparing the Data\n",
        "\n",
        "import codecs\n",
        "import math\n",
        "import random\n",
        "import string\n",
        "import time\n",
        "import numpy as np\n",
        "from sklearn.metrics import accuracy_score\n",
        "\n",
        "'''\n",
        "Don't change these constants for the classification task.\n",
        "You may use different copies for the sentence generation model.\n",
        "'''\n",
        "languages = [\"af\", \"cn\", \"de\", \"fi\", \"fr\", \"in\", \"ir\", \"pk\", \"za\"]\n",
        "all_letters = string.ascii_letters + \" .,;'\"\n",
        "n_letters = len(all_letters)\n",
        "\n",
        "import unicodedata\n",
        "\n",
        "# Turn a Unicode string to plain ASCII, thanks to https://stackoverflow.com/a/518232/2809427\n",
        "def unicodeToAscii(s):\n",
        "    return ''.join(\n",
        "        c for c in unicodedata.normalize('NFD', s)\n",
        "        if unicodedata.category(c) != 'Mn'\n",
        "        and c in all_letters\n",
        "    )\n",
        "\n",
        "# print(unicodeToAscii('aaa'))\n",
        "\n",
        "# Build the category_lines dictionary, a list of names per language\n",
        "category_lines = {}\n",
        "all_categories = []\n",
        "\n",
        "# Read a file and split into lines\n",
        "def readLines(filename):\n",
        "    lines = codecs.open(filename, \"r\",encoding='utf-8', errors='ignore').read().strip().split('\\n')\n",
        "    return [unicodeToAscii(line) for line in lines]"
      ],
      "execution_count": null,
      "outputs": []
    },
    {
      "cell_type": "code",
      "metadata": {
        "id": "z2HI2Oo8ZtEC"
      },
      "source": [
        "# # Build the category_lines dictionary, a list of names per language\n",
        "import os\n",
        "import glob\n",
        "path_data = \"/content/drive/My Drive/NLP/cities/*\"\n",
        "subname = \"/content/drive/My Drive/NLP/cities/train\"\n",
        "\n",
        "\n",
        "for file in glob.glob(path_data):\n",
        "  check_perfix = file.split('/')\n",
        "  if check_perfix[len(check_perfix) - 1] == 'train':\n",
        "    entries = os.listdir(file)\n",
        "    for f_txt in entries:\n",
        "      category = f_txt.split('.')[0]\n",
        "      all_categories.append(category)\n",
        "      lines = readLines(subname + '/'+f_txt)\n",
        "      category_lines[category] = lines\n"
      ],
      "execution_count": null,
      "outputs": []
    },
    {
      "cell_type": "markdown",
      "metadata": {
        "id": "UD7t7su0f2V8"
      },
      "source": [
        "let's check if we read the data correctly"
      ]
    },
    {
      "cell_type": "code",
      "metadata": {
        "id": "m-QFM3MufqER",
        "colab": {
          "base_uri": "https://localhost:8080/"
        },
        "outputId": "403844cb-b3bb-4e94-d69b-687f8b775242"
      },
      "source": [
        "category_lines['af'][:2]"
      ],
      "execution_count": null,
      "outputs": [
        {
          "output_type": "execute_result",
          "data": {
            "text/plain": [
              "['garavshakh', 'kalishli']"
            ]
          },
          "metadata": {
            "tags": []
          },
          "execution_count": 316
        }
      ]
    },
    {
      "cell_type": "markdown",
      "metadata": {
        "id": "W5Qnauirf8if"
      },
      "source": [
        "Garavshakh and Kalishli are cities in afghanistan! so far so good.\n",
        "\n",
        "let's explore the train dataset by prinint basic statistics: "
      ]
    },
    {
      "cell_type": "code",
      "metadata": {
        "id": "if4-1EUOgwvl"
      },
      "source": [
        "def gather_statistics():\n",
        "  number_of_category = len(all_categories)\n",
        "  tokens_per_category = {category: len(category_lines[category]) for category in all_categories}\n",
        "  chars = [ch for category in all_categories for city in category_lines[category] for ch in city]\n",
        "  number_of_chars = len(chars)\n",
        "  distinct_chars = set(chars)\n",
        "  avg_chars_per_tokens = number_of_chars/(3000*9) #because we know. \n",
        "  avg_char_per_category = {category: [ch for city in category_lines[category] for ch in city] for category in all_categories}\n",
        "  return {'number_of_category':number_of_category, 'tokens_per_category': tokens_per_category, 'chars':chars,\n",
        "          'number_of_chars':number_of_chars, 'distinict_chars':distinct_chars, 'avg_chars_per_tok':avg_chars_per_tokens, \n",
        "          'avg_char_per_category':avg_char_per_category}\n",
        "\n",
        "\n",
        "def print_tokens_per_category(dic):\n",
        "  print()\n",
        "  for category in dic:\n",
        "    print('category: %s\\tnumber of tokens: %s' %(category, dic[category]))\n"
      ],
      "execution_count": null,
      "outputs": []
    },
    {
      "cell_type": "code",
      "metadata": {
        "id": "5AoQzBtFmK85"
      },
      "source": [
        "gathered_dataset = gather_statistics()"
      ],
      "execution_count": null,
      "outputs": []
    },
    {
      "cell_type": "code",
      "metadata": {
        "id": "X7wXFHS1mWzW",
        "colab": {
          "base_uri": "https://localhost:8080/"
        },
        "outputId": "d7b55a99-e669-4a47-a163-7e00673eb7b3"
      },
      "source": [
        "print('number of categories:\\t%d' % (gathered_dataset['number_of_category']))\n",
        "print_tokens_per_category(gathered_dataset['tokens_per_category'])\n",
        "print('\\nnumber of charachters:\\t%d' % (gathered_dataset['number_of_chars']))\n",
        "print('\\nnumber of distinct chars:\\t%d' % (len(gathered_dataset['distinict_chars']))) # ..\n",
        "print('\\naverage number of characters per token:\\t%f' % (gathered_dataset['avg_chars_per_tok']))"
      ],
      "execution_count": null,
      "outputs": [
        {
          "output_type": "stream",
          "text": [
            "number of categories:\t9\n",
            "\n",
            "category: fr\tnumber of tokens: 3000\n",
            "category: fi\tnumber of tokens: 3000\n",
            "category: za\tnumber of tokens: 3000\n",
            "category: cn\tnumber of tokens: 3000\n",
            "category: in\tnumber of tokens: 3000\n",
            "category: de\tnumber of tokens: 3000\n",
            "category: pk\tnumber of tokens: 3000\n",
            "category: af\tnumber of tokens: 3000\n",
            "category: ir\tnumber of tokens: 3000\n",
            "\n",
            "number of charachters:\t298179\n",
            "\n",
            "number of distinct chars:\t29\n",
            "\n",
            "average number of characters per token:\t11.043667\n"
          ],
          "name": "stdout"
        }
      ]
    },
    {
      "cell_type": "code",
      "metadata": {
        "id": "5tM_dg0kIJQP",
        "colab": {
          "base_uri": "https://localhost:8080/",
          "height": 280
        },
        "outputId": "1bcb89bf-e9f0-4e59-959e-a37df230b183"
      },
      "source": [
        "def draw_plots():\n",
        "  dic = gathered_dataset['avg_char_per_category']\n",
        "  cats = [cat for cat in dic]\n",
        "  x = np.array(cats)\n",
        "  y = np.array([len(dic[key])/len(category_lines[key]) for key in cats])\n",
        "  plt.subplot(1, 2, 1)\n",
        "  plt.xlabel('Cities')\n",
        "  plt.ylabel('average char per token')\n",
        "  plt.bar(x, y, width=0.5)\n",
        "  \n",
        "  plt.subplot(1,2,2)\n",
        "  y = np.array([len(set(dic[key])) for key in cats])\n",
        "  plt.xlabel('Cities')\n",
        "  plt.ylabel('number of distinct chars')\n",
        "  plt.bar(x, y, width=0.5)\n",
        "  plt.show()\n",
        "    \n",
        "\n",
        "draw_plots()    "
      ],
      "execution_count": null,
      "outputs": [
        {
          "output_type": "display_data",
          "data": {
            "image/png": "[encoded data removed]",
            "text/plain": [
              "<Figure size 432x288 with 2 Axes>"
            ]
          },
          "metadata": {
            "tags": [],
            "needs_background": "light"
          }
        }
      ]
    },
    {
      "cell_type": "markdown",
      "metadata": {
        "id": "CQiyzjoYorHj"
      },
      "source": [
        "* 3.3 Train a Model and Evaluate It"
      ]
    },
    {
      "cell_type": "markdown",
      "metadata": {
        "id": "ZYyslD6yJU9i"
      },
      "source": [
        "**Turning Names into Tensors**\n",
        "\n",
        "To represent a single letter, we use a “one-hot vector” of size <1 x n_letters>. A one-hot vector is filled with 0s except for a 1 at index of the current letter, e.g. \"b\" = <0 1 0 0 0 ...>."
      ]
    },
    {
      "cell_type": "code",
      "metadata": {
        "id": "CPuFvR0oouAG"
      },
      "source": [
        "# Turning Names into Tensors\n",
        "import torch\n",
        "\n",
        "def letterToIndex(letter):\n",
        "  return all_letters.find(letter)\n",
        "\n",
        "\n",
        "def letterToTensor(letter):\n",
        "  tensor = torch.zeros(1, n_letters)\n",
        "  tensor[0][letterToIndex(letter)] = 1\n",
        "  return tensor\n",
        "\n",
        "\n",
        "def lineToTensor(line):\n",
        "  tensor = torch.zeros(len(line), 1,n_letters)\n",
        "  for idx, letter in enumerate(line):\n",
        "    tensor[idx][0][letterToIndex(letter)] = 1\n",
        "\n",
        "  return tensor"
      ],
      "execution_count": null,
      "outputs": []
    },
    {
      "cell_type": "markdown",
      "metadata": {
        "id": "-lx9kGyFJ_hT"
      },
      "source": [
        "**Creating the Network**"
      ]
    },
    {
      "cell_type": "markdown",
      "metadata": {
        "id": "mFIAq9y_P_Uo"
      },
      "source": [
        "This RNN module is just 2 linear layers which operate on an input and hidden state, with a LogSoftmax layer after the output: "
      ]
    },
    {
      "cell_type": "markdown",
      "metadata": {
        "id": "hLE7acwKP8dy"
      },
      "source": [
        "![rnn.png](data:image/png;base64,iVBORw0KGgoAAAANSUhEUgAAAYgAAAF2CAYAAAB02w9PAAAKrGlDQ1BJQ0MgUHJvZmlsZQAASImVlgdUU2kWx7/3XnqhJYQOoffeQUroAZRebYSEEkoMgQBiVwZHcCyoiIAi6FAVHAsgYwEs2AbFAlgHZFBQ18GCDZV9wBJ2ds/unv3n3Hy/d3Pfffd9+e45FwDKAEcoTINlAEgXZIlCfT2Y0TGxTPwQgIACIAFDIM3hZgpZwcGBANXc+ld96EOjUd0xnc7177//V8nyEjK5AEDBKMfzMrnpKJ9E7RxXKMoCAEENaOdkCae5FGW6CC0Q5SPTnDTLHdMcP8t3Z2LCQz1RHgWAQOFwREkAkN+jfmY2NwnNQ6GjbCHg8QUoe6Hsyk3m8FDOR9kkPX3FNB9D2SD+n/Ik/SVnvCQnh5Mk4dl3mRHBi58pTOOs/D+3438rPU089wwt1CjJIr9QdGWge1aXuiJAwoL4RUFzzOfNxM9wstgvYo65mZ6xc8zjeAXMsTg1gjXHHNH8vfwsdvgci1aESvIL0hYFSvInsCWckOkdNseJfB/2HOclh0fNcTY/ctEcZ6aGBczHeEr8InGopOZEkY/kHdMz52vjcuaflZUc7jdfQ7SkHl6Cl7fEL4iQxAuzPCQ5hWnB8/Wn+Ur8mdlhknuz0AM2xykc/+D5PMGS/QFewBsEoh8miABWwAZYooZWlZWQO32mgecK4UoRPyk5i8lCuyaByRZwzUyYVhaW9gBM9+DsX/xuYKa3IAZh3seTAsDqKurUmfeloOf1jDXaTth5n4ESeo0BoBPhikXZsz7M9BcW7WxpQAdKQB1oAwNgitZnB5yBO1qxPwgC4SAGLANckAzSgQjkgNVgAygARWAH2APKQCU4BOrAUXActIIzoBNcBtfBLXAPPASDYAS8BOPgA5iEIAgPUSEapARpQLqQMWQFOUCukDcUCIVCMVAclAQJIDG0GtoEFUHFUBlUBdVDv0CnoU7oKtQL3YeGoDHoLfQFRmAKTIfVYD3YHHaAWXAAHA4vhZPgDDgPzoe3waVwNXwEboE74evwPXgQfglPIAAhIwxEEzFFHBBPJAiJRRIREbIWKURKkGqkCWlHupE7yCDyCvmMwWFoGCbGFOOM8cNEYLiYDMxazFZMGaYO04K5iLmDGcKMY75jqVhVrDHWCcvGRmOTsDnYAmwJtgZ7CnsJew87gv2Aw+EYOH2cPc4PF4NLwa3CbcXtxzXjOnC9uGHcBB6PV8Ib413wQXgOPgtfgN+HP4I/j7+NH8F/IpAJGgQrgg8hliAgbCSUEBoI5wi3Cc8Jk0QZoi7RiRhE5BFXErcTDxPbiTeJI8RJkixJn+RCCielkDaQSklNpEukR6R3ZDJZi+xIDiHzyevJpeRj5CvkIfJnihzFiOJJWUIRU7ZRaikdlPuUd1QqVY/qTo2lZlG3UeupF6hPqJ+kaFJmUmwpntQ6qXKpFqnbUq+lidK60izpZdJ50iXSJ6RvSr+SIcroyXjKcGTWypTLnJbpl5mQpclaygbJpstulW2QvSo7KoeX05PzluPJ5csdkrsgN0xDaNo0TxqXtol2mHaJNkLH0fXpbHoKvYh+lN5DH5eXk7eRj5TPlS+XPys/yEAYegw2I42xnXGc0cf4oqCmwFJIUNii0KRwW+Gjooqiu2KCYqFis+I9xS9KTCVvpVSlnUqtSo+VMcpGyiHKOcoHlC8pv1KhqzircFUKVY6rPFCFVY1UQ1VXqR5SvaE6oaau5qsmVNundkHtlTpD3V09RX23+jn1MQ2ahqsGX2O3xnmNF0x5JouZxixlXmSOa6pq+mmKNas0ezQntfS1IrQ2ajVrPdYmaTtoJ2rv1u7SHtfR0Fmos1qnUeeBLlHXQTdZd69ut+5HPX29KL3Neq16o/qK+mz9PP1G/UcGVAM3gwyDaoO7hjhDB8NUw/2Gt4xgI1ujZKNyo5vGsLGdMd94v3GvCdbE0URgUm3Sb0oxZZlmmzaaDpkxzALNNpq1mr021zGPNd9p3m3+3cLWIs3isMVDSzlLf8uNlu2Wb62MrLhW5VZ3ranWPtbrrNus39gY2yTYHLAZsKXZLrTdbNtl+83O3k5k12Q3Zq9jH2dfYd/vQHcIdtjqcMUR6+jhuM7xjONnJzunLKfjTn86mzqnOjc4jy7QX5Cw4PCCYRctF45LlcugK9M1zvWg66CbphvHrdrtqbu2O8+9xv05y5CVwjrCeu1h4SHyOOXx0dPJc41nhxfi5etV6NXjLecd4V3m/cRHyyfJp9Fn3NfWd5Vvhx/WL8Bvp18/W43NZdezx/3t/df4XwygBIQFlAU8DTQKFAW2L4QX+i/ctfDRIt1FgkWtQSCIHbQr6HGwfnBG8K8huJDgkPKQZ6GWoatDu8NoYcvDGsI+hHuEbw9/GGEQIY7oipSOXBJZH/kxyiuqOGow2jx6TfT1GOUYfkxbLD42MrYmdmKx9+I9i0eW2C4pWNK3VH9p7tKry5SXpS07u1x6OWf5iThsXFRcQ9xXThCnmjMRz46viB/nenL3cl/y3Hm7eWMJLgnFCc8TXRKLE0eTXJJ2JY0luyWXJL/ie/LL+G9S/FIqUz6mBqXWpk6lRaU1pxPS49JPC+QEqYKLK9RX5K7oFRoLC4SDGU4ZezLGRQGimkwoc2lmWxYdHXZuiA3EP4iHsl2zy7M/5UTmnMiVzRXk3lhptHLLyud5Pnk/r8Ks4q7qWq25esPqoTWsNVVrobXxa7vWaa/LXzey3nd93QbShtQNv2202Fi88f2mqE3t+Wr56/OHf/D9obFAqkBU0L/ZeXPlj5gf+T/2bLHesm/L90Je4bUii6KSoq9buVuv/WT5U+lPU9sSt/Vst9t+YAduh2BH3063nXXFssV5xcO7Fu5q2c3cXbj7/Z7le66W2JRU7iXtFe8dLA0sbduns2/Hvq9lyWX3yj3KmytUK7ZUfNzP23/7gPuBpkq1yqLKLwf5BweqfKtaqvWqSw7hDmUfenY48nD3zw4/19co1xTVfKsV1A7WhdZdrLevr29QbdjeCDeKG8eOLDly66jX0bYm06aqZkZz0TFwTHzsxS9xv/QdDzjedcLhRNNJ3ZMVp2inCluglpUt463JrYNtMW29p/1Pd7U7t5/61ezX2jOaZ8rPyp/dfo50Lv/c1Pm88xMdwo5XnUmdw13Lux5eiL5w92LIxZ5LAZeuXPa5fKGb1X3+isuVM1edrp6+5nCt9brd9ZYbtjdO/Wb726keu56Wm/Y322453mrvXdB77rbb7c47Xncu32XfvX5v0b3evoi+gf4l/YMDvIHR+2n33zzIfjD5cP0j7KPCxzKPS56oPqn+3fD35kG7wbNDXkM3noY9fTjMHX75R+YfX0fyn1GflTzXeF4/ajV6Zsxn7NaLxS9GXgpfTr4q+Jvs3ypeG7w++af7nzfGo8dH3ojeTL3d+k7pXe17m/ddE8ETTz6kf5j8WPhJ6VPdZ4fP3V+ivjyfzPmK/1r6zfBb+/eA74+m0qemhBwRZ2YUQFCDExMBeFsLADUGANotAEhSszPyjKDZuX6GwH/i2Tl6RnYA1LoDENEBQChqFesB0EevpVEORtdwdwBbW0vsH8pMtLaazUVuRUeTkqmpd+hsiDcE4Fv/1NRk69TUtxq02AcAdHyYnc2nJYPO/wer7Vl+gTer9oN/1d8BOj8E83W/uycAAEAASURBVHgB7Z0HeFzFuf4/9WL15iK5995tbIOBgG2CY0gC5hpTLoEU0uCSclMgQLghhSSQ/EPokBgSTAnFYFzADsUlxt3G3ZYlWUaymtXrSvJ/3lkd1V2V7Xv2neeR9uw5c6b8Zva8M/PNzAm6oJzQkQAJkAAJkEAnAsGdvvMrCZAACZAACWgCFAhWBBIgARIgAZsEKBA2sfAkCZAACZAABYJ1gARIgARIwCaBUJtneZIESIAEvEygqqpK8FdTUyOVlZX602KxSFNTk2BuDT6N4+bmZn0cEhIioaGhgs+wsLDWT5yLjIyU+Ph4/RcbG+vl3PlH9EGcxeQfBcVUkoBZCOBhXlhYKMXFxVJaWioVFRVaCOrq6sQQAOQVIhAcHKwf8vg0Hvg4DgoK0teMTwgCjhsbG8UQi87iYQgKrhsOYUE8EHZ0dLQkJCTov7S0NBkwYIC+ZvgNxE8KRCCWOvNMAh4ikJeXJ2fPnpWioiItBhABPKjxMDda9Xgwx8XFtT6Y0brHHx7e7nIQCQhTeXm57p2gp2KIFdJYX1+vBcpIZ0xMjCQnJ8ugQYNk+PDhujfirrT5UrgUCF8qDaaFBPyYAB6wR48eFYgCHr7oDeABGxERoYd1UlNTJSMjQ4YOHeo3uSwoKNA9HeQJPR4Md6GXAvGKiorS+UJ+xowZY0rRoED4TVVlQknAtwigZ3Dq1CnJz8/XrXAMCeGhCSEYNmyYFgL0Dszm0PtA3vGHoTIIY0NDgx6mgo1jyJAhMmHCBOnXr5/fZ50C4fdFyAyQgGcI4MF4+PBhOXnypG5No3eAh2D//v1l5MiRWhQ8kxLfiwW9iuPHj0tWVpaUlJRIbW2ttp2kpKTo3sXEiRN9L9G9SBEFoheQ6IUEApUAxuP37t0r2dnZupcAuwGMt+PGjdOiEKhceso3xPT06dNaUGF/gd0FvQvYL6ZOneo3w1EUiJ5KmtdJIAAJHDp0SA4ePKhFAcNG6enpMm3aNG2oDUAcTmcZtowDBw7o4Tj0LjD0NnbsWJk5c6ZPz5SiQDhd9AyABMxBAC3dnTt3aiMzcgTj67x58/SMInPk0DdyAUP3nj17JDMzU8+WwuyoGTNmyIgRI3wjge1SQYFoB4OHJBCIBGBX2LVrl35YJSYm6p4CZuXQuZ/AuXPnZPfu3bpnAZsODNwLFy70mSEoCoT76wBjIAGfJIBWLIaRYGDFcMdFF10k4eHhPpnWQEjUZ599JvjDqnEY/i+99FKBYHvTUSC8SZ9xk4CHCcB4umPHDjly5IiOGdMx58+f7+FUMLruCKBXsXXrVj0bCgKB8sH6EW84CoQ3qDNOEvACAbROIQ7YlgIzaWAgpfNdAuhJfPzxx/L555/r6cRXXnmlnkHmyRRTIDxJm3GRgBcIwPi8ceNGvQoYokBh8EIhOBElFuFt2rRJcnNz9SLExYsXC7b+8ISjQHiCMuMgAS8QwBoGPFjQAsU0VTxYaGPwQkG4KEqs2H7//ff1ym1MIoAxG+tS3OkoEO6ky7BJwEsEsKr3k08+0VtfLFq0SBs9vZQURutiAlitjaEn7HUFQ7Y7Z5xRIFxceAyOBLxNYP369XLmzBmZPXu2nl/v7fQwfvcQwJqVffv26R1mly5d6pbdbykQ7ik7hkoCHidQVlYmb7/9tn4fwrJly/R4tccTwQg9SgD7Pq1du1Zv5YEhRFfPdqJAeLQ4GRkJuIfA/v379SpovOjmmmuucUtr0j0pZ6iuIABbE1ZmY68nCIWrHAXCVSQZDgl4icC2bdsEeydhoRumr9IFJgFsP47Zangr3nXXXecSCBQIl2BkICTgHQJoOWLX0C996Ut6LNo7qWCsvkIAM9dWr16tZzctX77c6S07KBC+UrJMBwn0kQDGnvGmMwwpYQtuOhIAAWyd8vrrr+t1L1/96led2q7DfS99ZVmRAAm4jQCGEjCkgFYixcFtmP0yYKyNuPHGGwUvK3rttdf02+4czQh7EI6S430k4CUCxjTWlStXcituL5WBv0T7zjvvCPZ2gmDExsb2OdnsQfQZGW8gAe8RwLbc2HIBQweO/OC9l3LG7A0CGH7E+yYc7UlQILxRaoyTBBwgkJOTo1//efnll3ONgwP8AvUWzGjCWwFfeeUVvUamLxwoEH2hRb8k4CUC5eXlegrj5MmTZfTo0V5KBaP1VwIrVqwQvJAICyn74igQfaFFvyTgJQJvvvmmXiXLdzd4qQD8PNrg4GC9NqK4uFhvz9Hb7FAgekuK/kjASwS2b9+upy5eddVVXkoBozUDgejoaL2YEnYsvBe7N44C0RtK9EMCXiKAHzJe9HPJJZdw+wwvlYGZop0yZYpeaf3uu+/2KlsUiF5hoicS8A4BTGmNi4uTcePGeScBjNV0BDCzCTYt7N/Vk6NA9ESI10nASwSw7z/GjLGNBh0JuIpAZGSkzJo1S/bs2dNjkBSIHhHRAwl4hwBe+IOeA9c7eIe/mWOdMWOGXLhwoUeDNQXCzLWAefNbAgUFBYKN1+bNm+e3eWDCfZsA3kR34MCBbhNJgegWDy+SgHcIYOZSamoq3yHtHfwBESumTDc0NOjdgO1lmAJhjwzPk4CXCGA3zsLCQj0l0UtJYLQBQACb+o0YMUL+85//2M0tBcIuGl4gAe8Q2LFjh97Hf9CgQd5JAGMNGALTp0+Xqqoqu/mlQNhFwwsk4B0Cp06dkkmTJnkncsYaUASwkV9ISIicPHnSZr4pEDax8CQJeIYA3iO8b9++1sgwvATjNMaGcY2OBNxNIDExUU6cOGEzGgqETSw8SQKeIYAW3JEjR1ojgyiEhYVpwyGu0ZGAuwkMGzZM27xsxUOBsEWF50jAQwTwgnm4srIy/Yn3SxvrHoxr+gL/kYCbCGCHYPRY8dfZUSA6E+F3EvAwgcGDB+uXACFarJyGMOAcHQl4gkB4eLjeCry0tLRLdBSILkh4ggQ8S6C9QGBzvtraWgqEZ4sg4GPDduDYn6mzo0B0JsLvJOBhAunp6ZKfn986zIReBM7RkYCnCMDuVVlZ2SU6CkQXJDxBAp4lgC4+DNJ5eXm6q5+SksIV1J4tgoCPDXXQ1noICkTAVw0C8AUCxjATXgtJ+4MvlEhgpQE7vNp6iRAFIrDqAXProwQgCuhBNDU16VeL+mgymSyTEsAQE9bgdHYUiM5E+J0EvEAgLS1N6uvrdcw4piMBXyBAgfCFUmAaSIAESMAHCYT6YJqYJBIISAJ33nlnQOabmfZdAuxB+G7ZMGUkQAIk4FUCXXoQNatHejVBjNy3CUTf6NoN5FjffLu8vZ06V9c3b+fHV+PH7Lnm5uYuyWMPogsSniABEiCBwCKA91NDJDo7CkRnIvxOAiRAAiSgCVAgWBFIgARIgARsEqBA2MTCkyRAAiRAAhQI1gESIAESIAGbBCgQNrHwJAmQAAkEDgEYqGGo7uwoEJ2J8DsJkAAJBBgBzmIKsAJndkmABEjAWQKm70G8/WmV/H5NqXxe0nWnQmfh8f7AJNDcfEHXqac2dn0Dl0Gkp3qHFhvq5RMbrO+iNu5r/3n0bIP2s/mzmvaneUwCHiNgeoFYv69anlQ/wnNlnhWItbur5Y0dVR4rSEbkOQJNasHpg6+WyiNvn7cbaU/1TmmMNYy3ur4H2Aj00Jl67WfdnmrjFD9JwKMEumy14dHYPRDZ03f290AsHaNAC/OevxXK7NGRct1FMR0v8ltAEPBGvQsIsMykRwmYvgdx9wtFMvmeHNmXVS9Vdc36+KY/5cunJ+pk4X25Mvb72fIH1dW3NFot+Gj1w/+Tavjgp/8olmHfypLR382S1Vvb3te64tF87Se/1NorgSDgnsvvz5XTBRaZ+D85kld6Qd7fV6vPl1U3ebRQGZlnCISoX8/Ok3Vy2S9yZfxd2fLou231qH29Q2rqGprlzqcLJP2O0zLvp2dk69G6Lok89nmDDmvg7afl+t/nSUVNx71xMCz1p7VlMvUHOZJ622lZ/MuzckQNQxnu2yp81MNT+Q2yUtXxwd84Ld95pkCyCy2GF36SQJ8ImF4g8kst6qHdpH+gYSFB+vhT9aP++pPqx5ocKudKm+UBNVyw/bj1B1vXcEH7eeSt87LjeK1cMSVKP+y//kRR6w8tt7hR+zFEBdKCOLIKGiUmMkjmjY3UhTAoKUSunR0j4aFd9zjpUynRs08SaFS6//UnCmRAYqiycTXLL1a31aP29Q6Jf/iNUnnp42qJCA+SyyZFy7fVg7u9w8MforAr0yJTh4VLfHSwPPBKifZiTD78y7pyuffl85KRFCoP3ZgsWerBv0SJRE29VUiKKpp0PfyGqttVSlwiVVyrPqpWwmXfztE+DTwOXAKcxaTKPrjlOZ2vWvd/vj1VVt8zUH6xPFHXik0HrYZAtArhIsKC5MOHMuT57w6Qr86N0ud6Y1NIiw+Vby1K0P4nDQ2XX61MlugI0+uwzm+g/SusuCCPqXr0yg9UPbrBWo/sGZT/+UmFxvP6jwbKb25OkUduSe2Aa4fq0WYVNktGcrBsuN9a7xZPj+7g58/vWe0Vz36nv3x7SbzcsyxRzivzxL/+Y7V1BbdUs0lDIuWdn6fLRhUO3KaDtGF0AMkvXQjYWwdhehtEFxLqRHiIyMXjrQ/96SMitJeTqlve3s0aFdG6u+G04ZHy5qe1ksuZUO0RBfwx6tElLfVoRks9OpHXsR4BUr3lghSUW/sBEwaHa24zR1rrnQExu8g6XIneg+FmjoiUV7dZGy7Vanj0XJk1jBvVECdcRa2153Air+MQ0qKp1ro9on+YxKnObE5RszQ2XZBQ1YOmI4G+EAhIgUiMCWod9ulnp3UfG9nW6kdvAk69T76Da2wZIoZtgy7wCPSmHoFKQ4t9K1RVKWO40fg0qBl+osO71jv4sagHPBx6wYum9dPHxr+pQzuKTWqcUq4WFxURJBV1xiCVcZafJNA7AgEpEL1BsyfT+gJ5+D2YbT2GTQFuQAI+LXIkt0HQStt2rKvBEf7QaqMjgdioYIlWHYMa1bk4rlr7EzLCZe/ptvoFQoOUHQPuYE7b+b2n2+pVQr8Q3RuoUKduvTRWhqSG6Z4J7jEaMDimIwFXEmhrrrgyVBOEdTyvUX6mZjFhNtPbO61juNfMtrbcrpxq/XzglWJ5TM1cefhf5wWtQ8xmghuQaBWSXSfrZYNah8EehgkqhJNZ+NIsqz3hBy8U6vUxD6q6A2fUmQXjIiVWdQSO5zUpY3eJPL6+TN5pqXfGFjm3XBan7/nxS0Wy5Uit3PhYvprNlKVn6OkL/EcCLiZAgbAD9NbLY+WwWqj0o1UlqqUm8n83JsrEwdau/Jfn9JNls6L0j/kv68q00TE5NkhqW4aCh6rWHa7DiHnDHwqkoKzT2JSdOHnavAQeWpGseg6hsuVYg9z1bKHcc02SRIVJa53BRIan7kzTPY1H3y2XVR9WyEMrUzSQeot1CPO+65NkxYJoWbenTq76Vb6aNWeRJ76VItOHdxxiMi9F5szTBILU9KYO4yCB/o7gV9R6hzvUlNbvXBUnv781RcprmtSPNljCbExVxTz1ODUd0Z7D+oc4NbwQbEyfsufRj867+h3BgVbfitVU1OTY4NYJEJ2Lvkn1QlGvEmPa7Aid/WDoEgbqpG78dL7HX7+7ur75Kwd3p3vt2rV6N9dly5Z1iIo2iA44un6Jj7b/Q+1OHBASxo3pSKA9gZR2BuT2543jENWY6E4c4A+zkQJBHAwm/HQ/Aa6D6CXjKLW4KC0uSLf8e3kLvZEACZCAXxPgOoheFt+1c2IEf3QkQAIkEOgE7A+gBzoZ5p8ESIAEApwABSLAKwCzTwIkQAL2CFAg7JHheRIgARIIcAIUiACvAMw+CZAACdgjQIGwR4bnSYAESCBACNibxUSBCJAKwGySAAmQgD0C9tZBdFkox5WLVoQbNmyQ3NxcueOOO9RKaOqovYrl7HnWt64Em5ub5bnnnpOhQ4fKkiVLunrgGRLwEAE++eyAvuqqqyQiIkKeeeYZOXz4sB1fPE0CriWAuoY6N2DAAIqDa9EyNAcIdNmLyYEwTH3Lli1b5NixY7oXMXLkSJkzZ45ER3d805epATBzbidQU1MjO3fulMzMTLW7a7OMGzdOLrnkErfHywhIwCBgby8mCoRBqIfP/fv3y5EjR6SiokIiIyNl8ODBMm3aNElOTu7hTl4mga4ESkpKBHUKw5j19fUSGxsrEyZM0HWqq2+eIQH3EqBAuIhvXV2d/mGfPn1aKisrJSwsTIsEehdo+YWGdjHruChmBuPPBBobG3VPFL0EiIPFYtGiMGLECC0KaHTQkYC3CFAg3EAewwEYM27/o8cPfdCgQTJq1CjBj58ucAmgEXHq1Ck5d+6cYBipfWNi4sSJnPwQuFXD53JuTyDY3HWiqDC7afLkyfoPwVRXV8uhQ4ckJydHNm3apPdXh72if//+Mnr0aBk+fLgTsfFWXyeQlZXVQRAwtzwhIUGX/ZQpU6Rfv47vkvb1/DB9gUMAdRUN3s6ONojORFz4vbS0VNstzp49q20XKAA8JCAY6GFQMFwI2wtBGYJQUFCgGwdoMMTHx0t6eroebqR9yguFwigdIsAehEPYnLspMTFRFixY0BoIxp6PHj0qeXl5uofRXjDGjBmj5723euaBzxFAz/DEiRPSWRCGDRsm48eP54QFnysxJshZAhxicpZgH+5Hi/Liiy9uvQOCcfz4cT2TZePGjbqLh9kssGHggYO58HTeIwDbgSHomJBg9BBgWxo7diwFwXtFw5g9RIAC4SHQtqKBYMyfP7/1ElqmxgMJLVU8kNALwXDUpEmTOEOqlZR7DjDTCDYkGJYxPIgeHgQbQ0YQbAwN0pFAIBGgQPhQaeMB1P4hhNlRWKS3b98+2bFjh0RFRUlGRoYWi/b+fCgLfpeUoqIiOXjwoB72w0yj8PBwSUtLk+nTpwumLtORQCAToED4cOnjAWU8pDBD6sCBA5Kdna1buCEhIZKUlKRnyHDKZO8LEb0CLHg8efKkFBcXt/YSwHnq1KmcadR7lPQZAAQ4i8lPCxm2C/yhBYyhEcyOgrF01qxZeqW3n2bLLcnG4sbdu3drcYXQYjEjegmYeozFjXQkEOgEOIvJZDUARlL8wZWVlelhEky7xBh6TEyMfvhhmARDJoHoGhoa9NAcegpVVVVaQIcMGSJYjwC7Dh0JkEDPBDjE1DMjn/eBxVgLFy7U6UQLedeuXdrYjb1+YGSFgRsPxkBwsCdAJDHrCLvxolc1e/ZsDh0FQuEzjw4T4EI5h9H5742YiYOhFczfx9g7NhjENFuIhpkcxGDr1q16ujBmfuE9ChhqY0/BTKXMvLiTgL0hJtog3Endh8LGbCj0KDAcFRcXpw2yMG77s8M+WDDcY4dd9KKwuy5tCv5coky7twhQILxF3sfixRDUtm3b5MyZM3qdxYwZM/xui2kI3d69e3WvCHYFrFbnPkc+VtGYHL8iYE8gaIPwq2J0PrF4kC5evFgHtH37dm2v2LNnj573D7Hozr322mty9dVXayN4d/76eg1G5HXr1skNN9zQ7a0QBawJwXAZej/tFxl2eyMvkgAJOESAAuEQNnPchAcs/iAUxsMX37Fq2JbDmH5+fr6eIWXruqPnEGZ39gKsLkca8WJ1vFSHwuAoad5HAn0jQIHoGy9T+jaE4tNPPxW8YhVDOEuXLtW2ivYZxt5Q2J8I6wdc6bDFiK2V4bAtvPfee3pGEhaxzZ0715XRMiwSIIEeCAT3cJ2XA4gAHsArV64UTHl7+eWXZf369R1yj4c4HuaudhCdzhsTIm6kAWlBmigOrqbO8EigZwIUiJ4ZBZQPLLJbsWKFng6L6bGrV68WrESGS0lJkfLycv26TFdBwSpwhImw4RDXqlWr9NRcTMlFWpAmOhIgAc8ToEB4nrlfxIjFdTfddJN+eL/44ot6aAlrDPAgLywsdFke0CNBmAgbPQnEVVtbq+NGGuhIgATcTwD2PfTWOzsKRGci/N5KAAvqbr75Zm0cXrNmjV6IZtghWj05eQCBQJh46x7iQEVFnGZbzOckJt5OAm4lAHHAb6+zo0B0JsLvHQgYQ044CYMx3mGBlr6rHGYwIUzMw4bjkJKryDIcEnCeAAXCeYamDwHvWTbWKGzevNmlAgGxQZhwiANx0ZEACfgGAQqEb5SDz6cC6xSWL1+uu6EWi0W/cc3ZRGOvKISFri3C7m4thLNx8X4SIIG+E6BA9J1ZwN6BoSCsj4B7++23neZghIEwETYdCZCAbxHgZn0uKo+a1Xw9pYtQmjKY6BszTZkvZsocBOztxcQehDnKl7kgARIgAZcToEC4HCkDJAESIAFzEKBAmKMcmQsSIAEScJgA10E4jI43kgAJkIC5CXAltbnLl7kjARIgAZcT4BCTy5EyQBIgARIwBwEKhDnKkbkgARIgAZcToEC4HCkDJAESIAFzEKBAmKMcvZ6L5uYL8vs1pfLUxnK7aTlytkH7+fdnNXb9OHvhaEscm90Yh7Np5P0k4C8EKBD+UlI+ns6mZpEHXy2VR94+bzelJ/Ma5MkNZbLtmPUFRHY9OnHh0Jl6nY51e6qdCIW3kgAJgADfSc164DEC186JEfzRkQAJ+AcBCoR/lJNDqXzm/XJ5+v0yOVfaJIumRcvtV8TLwglROqzahmbV0j4va3dXSUFZs4xND5OffCVRrpltfYC/9WmV3P9Kifzo2kTJLrTIC5srZLzy8+x3+suezHp54NUSSYgOlgdXJMvlk6Jb04eXUmF45/7VJZJdYJGvzouVR29LkbDQIEGr/if/KJabF8bpuNrHUVrVLE+o3sWw1FD5oYpzybR+Osziiib535eK5MPPavX3q2dGyx/+O1Wiwq2d32OfN8idTxXI8c8tsmB8pHxxuvW+1gTxgARIoEcCXAfRIyJzeXhuU7nc8/cSKatpltuvjJdPjtTKDb/PFzxw4W798zl5fH2FREcEK+GIkxN5FrnxsUJZv886NFNnuSCnC5oEIvPBgRqJCAuSLcca5O4XiuTel4tlUGKI7D5tke892/H1o5W1F+Su5wpl7phIwbDTC/+ulCda7BIVtc06zOJKaxqMOP62uVye/aBMRqSFyrbjDfKNvxa0vt1q+R/y5NVtNbJSicrNl8bJ3z+slrufL9J5QKW+/vd5sivTIlOHhUu8EqwHlKjBdX03lj7NfyRAAjYI2FtJzR6EDVhmOPXHd0p1Nt7430EybViEzBwRIS99XCHbj9fK0NQwWbevTlJig2Tn7wbrd9HOHhUhtz1eJI8qQzNa4cbbaUurm+Szx4bKgex6ueS+PNm4v04+emiQzB4VKRPuzpbsomb5vKRR0uJDdHzV9erNc98foK9fqnorK/9UKK9tq5S7lyZ0wWrEkVPUKMcfHybhqpex4GdnZH9Oo+zPapCGxguy85RF5o4Kk4dXWrcD336sVlZvrZbf3dIk6D1kFTZLRnKwbLg/Q4d/+1/PaUHpEhlPkAAJ9JkABaLPyHz/BgwfnSlulmD1BJ6QEa4T/OW5MYI/uJe3VOrPOUoUjBeV44EPh1lA7d081RMIUQGNbwknMkxkhhIbuInqXE5RneoVWFoFIkTFOVUJEpzxeabIor/b+7dwYpQWB1yfrsKGQJw81yD1qhcDdyrfIpfel6uPISZqwpQSBosSp0Z9Dr0Hw80cEUmBMGDwkwScJECBcBKgL95e12B9sIaqYfoQG/PUjAdvv8i2i1ER1vZ8g3X0pzVbSbHWKmKM+cdFBWnBgIfIcKMP0OpdnRMJs3Ym9LAUrmCoqTuXFt9WDaMiWm5WN1isz38ZmBSqbCgdbQtxUcG6h4Fwo1vsETjGUBgdCZCAawi0/TJdEx5D8QECiTEhEqc6BBVqNila32PTw+U/amjp7x9WyBcmR8vogaoboNzuzLbpprtOqrEh5Yxr+osD/zDElHnOIqMGhsvBHGuY6cmOVbOhyiYBBwP3fdcn6eOqumYlCEESrHo1WYVWBTHigYe9p9vypG/gPxIgAYcJtDUhHQ6CN/oiga8pwzPc/7xQKO+p2UM/WlUs//ikWmJUr2H+2EiZMiRUj9/fpQy+ryobAQzPcN+7uqutQF/o4R+GfeDQfv/OM4Xy5g41C0rNZIJzdGrrwvFRMljZF/ZnWQQ2lU0Ha2T897Nl/s9z9fDTgnGREqtGs47nNckvVFyPry+Td3ZajezKfk1HAiTgJAEKhJMAffX2e69Lkv++rJ8ySjfIDX8skLPKkPzobeqd0jP76db3Kz8cKFdMipDnN1fK7X8tkhI1u+l3tyTJigWOrVOos1jHkUYNDJEvzugn33iyUA7lNsqiyRFyl4Oig54D0jlJidn9r5TKdY+ckwmDw+WluwfooSTMwHrqzjTVoxB59N1yWaV6SA+tTNFFUt+SHl8tH6aLBPyBAN9J7aJS8tV3Ujeppn2Jmlbafpy/fZZhj8D009S4trH/9tcdPbaoGUg1ylgeH+2acCvUdN0wNeJk2ELapwt5xHUMrfmq4zupfbVkmC4QsPdOascGh8nUbwhgBpI9cUAmYNRNNazKLswVWv/xoa57YMepNQ72HPLoy+JgL908TwK+TsD+r87XU870kQAJkAAJuJUABcKteBk4CZAACfgvAQqE/5YdU04CJEACbiVAgXArXgZOAiRAAv5LgALhv2XHlJMACZCAWwlQINyKl4GTAAmQgP8SoED4b9kx5SRAAiTgVgIUCLfiZeAkQAIk4L8EuFDORWUXCCtlm5ub5bnnnpOhQ4fKkiVLXEJuw4YNkpubK3fccYfaAoTtFZdAZSAk4CIC/EW6CKTZgzl8+LA888wzMmDAAJeJA5hdddVVEhERocNGHHQkQAKeJ2DvjXLci8nzZeE3MdbU1MjOnTslMzNT0HsYN26cXHLJJW5J/5YtW+TYsWO6FzFy5EiZM2eOREe3vevaLZEyUBIgAU3A3l5MFAhWkA4ESkpKZP/+/XrYp76+XmJjY2XChAkybdq0Dv7c9QVxHzlyRCoqKiQyMlIGDx6s405Otr5y1F3xMlwSCGQCFIhALv1u8t7Y2Khb7uglQBwsFosWhREjRugHMx7S3nB1dXVaqE6fPi2VlZUSFhYmEAn0LtCTCQ2l+cwb5cI4zUmAAmHOcnUoV3jonjp1Ss6dOycYRmr/8J04caLPGYsxvAX7RHsRg3ANGjRIRo0aJRAzOhIgAccJ2BMINsMcZ+o3d2ZlZXUQBBikEhISZPTo0TJlyhTp16/j+559LWOY3TR58mT9h7RVV1fLoUOHJCcnRzZt2iQX1OvjYK/o37+/ztPw4cN9LQtMDwn4JQHaIPyy2LpPtCEIBQUF+mGKB2x8fLykp6fr4RmzjeeXlpZqu8XZs2e17QI9DogeBAM9DApG9/WFV0mAPQgT1wG0pE+cOCGdBWHYsGEyfvx4PXZv4uxLYmKiLFiwoDWLsKUcPXpU8vLydA+jvWCMGTNGr+No9cwDEiABuwQ4xGQXje9egO3AeADCgGv0EDAWP3bsWNMLQk8lgx7SxRdf3OoNgnH8+HE9M2vjxo16yi5mZ8GGAQHF2g46EiCBrgQoEF2Z+NwZzDTCmDsMyxhOQYsYDzgMGeEBh6EUOvsEIBjz589v9YCeliGw6HlBYNELwXDUpEmTOEOqlRQPAp0ABcJHa0BRUZEcPHhQD5NgplF4eLikpaXJ9OnT9VRPH022XyQLgtpeVDE7Cov09u3bJzt27JCoqCjJyMjQYtHen19kjokkARcSoEC4EKYzQaFXgAViJ0+elOLi4tZeAub9T5061ednGjmTd2/fC8b4g8MMqQMHDkh2drbusYWEhEhSUpKeHeWLU4C9zY7xm5sAZzF5sXyxGGz37t36YYQHExZ/oZeA6adYDEbnfQKwXeAPPToM9WF2FIz/s2bN0iu9vZ9CpoAEnCfAWUzOM3RJCA0NDXooAz2Fqqoq/cAZMmSIXo+AcXA63yIAoz/+4MrKyvSwH6YRwyYUExOjxRzDfhgCpCMBsxHgEJOHShT2BDxUMOsIu5eiFTp79mwOHXmIvyuiweLChQsX6qDQ49u1a5c2dmP/KEwagIEbCw/pSMAsBDjE5MaShBhs3bpVT6/ETBm8RwFDE+wpuBG6F4LGzDIMFWI9CmxJ2GAQ02whGnQk4A8E7A0xUSDcUHrYNwiGTuxIilYndkKlTcENoH0wSMyGQo8Cw1FxcXF6ggGM23Qk4MsEKBAeKB08GPbu3atbkbArYHWvr+9z5AEsARkFhqC2bdsmZ86c0essZsyY4bEt0wMSODPtFAF7AkEbRDdYYURet26d3HDDDd34Ei0KmEOP4QW0Ftsvyur2Rl40LQE0DBYvXqzzt337dm2v2LNnj17HArHozr322mty9dVXayN4d/54jQTcTYAC0Q3h/Pz8bu0FWI2LHz92E8VLdSgM3cAM4EuoF/hDXUEPE40JfMcqeFsONirUPUx3piMBbxKgQHRDH1sy2FpJC9vCe++9p2ckYRHb3LlzuwmFl0jASsAQik8//VTwilUMSS5dulTbKtozwt5Q2G+LAtGeCo/dSQCNXLwGoLML7nyC39sI4EfaeSO39evXy8svv6xhrly5kuLQhotHvSSABgXqDn6QqEuoU+0dGiVonNCRgKcIoC5CJDo7CkRnIi3fsWq2vLxcUlJS9Bmsel61apWeyogpjCtWrOAYsR12PN0zASyyQx1CXcL02NWrVwvqGBzqHOoeXv9KRwLeJECBsEMfLTj8ULF+AT2JF198UWpra+Wmm27SC6Ls3MbTJNAnAlhchzoFQUAdQ11DnUPdKyws7FNY9EwCriZAgbBDFAKB4SW8pWzNmjW6+3XzzTdz8ZMdXjztOAEsqEPdQhcfdS03N1fXPYgFHQl4kwAFwg59zCLBewQwPxiOQ0p2QPG0SwgYQ04IDBMgUPcoEC5By0CcIECBsAMPP87Nmzfrq1gHgXc605GAOwmgjhlrblD3KBDupM2we0OAAmGDEvbWgYEQXf7ly5d3uxbCxu08RQIOE8AaCNQ51D3UQdRFOhLwFgEKhA3yb7/9tj6LOero6tORgCcJoM6h7sEZddGT8TMuEjAIdNmsb+mfc41r/CSBLgTeu3twl3POnGB9c4ae+e91dX0zPzHHcmhvLyb2IBzjybtIgARIwPQEKBCmL2JmkARIgAQcI0CBcIwb7yIBEiAB0xOgQJi+iJlBEiABEnCMAAXCMW68iwRIgARMT4ACYfoiZgZJgARIwDECFAjHuPEuEiABEjA9gYAViCFJobJ8VqxMGxzRpZCjw7u+OKOLJ54gARIgAZMTCNg3ymUkhsk102Jl46Eq2Z9br4sZgnHZ2GgZlhIuZ0stsvN0rbz0nwppaOr6Ig2T1wtmz8UE0CCZOyJKThY0tNY3Iwo0SGoaOtax+aOiJD0hVP59rEZKqpoMr/wkAY8SCFiB2J5ZK/gz3MRB4XLbggTJLGyQpz8ulUuVUHx1ZpzUN16Qf+yoMLzxkwQcItDXBskXxvWTeSOj5NDn9RQIh4jzJlcQCFiBmDM8Ur5+SYJsPlotr+6qlNTYUPngcJWsPVglpwotkl/WKA9emyrDU8NbOS8cEy3Xz4yV9MRQ/aPddqpW/vlpuTSygdfKiAe2CbBBYpsLz/o2gYAViOjwYPWgD5P4qBBdQh8drxH8GW76kEh9eKbE+trHy8dFy4+WJEtVfbOs/6xaZg6LlBtmx0lSvxB57IPzxm38JAGbBBxpkCCg8NAg+enVyTI5PUJ2qCHPV3dWSGElWyQ2IfOkwwTwTurm5uYu9weskboLiXYnFk/sp+wTMVoM3tlfqa+snBunP3/1brE8t6VM7nr5nOo5XJAvjI9WIkGM7fDx0AYBWw2SP20q1b1VeO/cIDGCuG1+vMREBEtj8wW5alKMXD/LWg+N6/wkAVcQwPbyEInOjk+2TkSuVA/8u65IlFrLBXlwTZGU1jRLeEiQDIwPlSb1Iz2hjIxwFtWIyyq2SLCCivFlOhJwlICtBokR1mlVx+57q0h+8i/r+6lnDLX2bI3r/CQBdxII2CEmW1CvUOJw96IkKalukgfWFEu2+nHChapRKKhrk+oxWNrNaIIBW18P7qq8+gL/kUAPBGw1SNrfsie7Tn89V96ke7RoqKC6qbYKHQm4nQB7EC2IByvD811XJEllbbP87+uFreKAy5iCWFbTpMeDh6VYewv4kY5Ksx5jSiwdCfSVQPsGyY9VnTuab+2dtg+nVNU7w9WrXi0dCXiSAHsQLbS/vjBB9RSC1JBSk9w4p22ct7KuWZ7fWi6wRdw6P0G+94VE+dfuSrlMGa0jw4LlU2U4pNHQk1XWHHF1bpAUVLQJgTlyyFyYgQAFoqUU0XWHwyI5/BmuuKpRC8Qbeyq1ICybGiP3filFLGp46aPj1fL0R2WGV36SQK8J9NQg6XVA9EgCbiQQsALReVrrN1881y3mRjUDbNX2cv2XGB0s5WooiuPA3SLjxW4I9NQg6eZWXiIBjxEIWIFwhjBmNtGRQF8I9LVB8qu1xV2Cv/X5vC7neIIE3EmARmp30mXYJEACJODHBCgQflx4TDoJkAAJuJMABcKddBk2CZAACfgxAQqEHxcek04CJEAC7iRAgXAnXYZNAiRAAn5MgALhx4XHpJMACZCAOwlQINxJl2GTAAmQgB8ToED4ceEx6SRAAiTgTgIUiF7SnR++Q/BHRwIkQAKBQqDLSur37h4cKHnvUz7Xrj0geKnGvcvIp0/gevDM+mYFtHbtWl2/li1b1gMxXiYBzxFgD8JzrBkTCZAACfgVAQqEXxUXE0sCJEACrieAF6JhhKSzo0B0JsLvJEACJBBgBPhO6gArcGaXBEiABJwlwB6EswR5PwmQAAmYlAAFwqQFy2yRAAmQgLMEKBDOEuT9JEACJGBSAhQIkxYss0UCJEACzhKgQDhLkPeTAAmQgEkJUCBMWrDMFgmQAAk4S4AC4SxB3k8CJEACJiVAgTBpwTJbJEACJOAsAQqEswR5PwmQAAmYlAAFwqQFy2yRAAmQgLMEKBDOEuT9JEACJGBSAhQIkxYss0UCJEACzhKgQDhLkPeTAAmQgEkJUCC6KdjMzEzZt29fFx84h2t0JEACJGBmAhSIbko3OTlZjhw50sUHzuEaHQmQAAmYmQAFopvSTUhI0FfLyspafRnHxrXWCzwgARIgAZMRoED0UKCDBw+W3NzcVl84xjk6EiABEjA7AQpEDyVMgegBEC+TAAn4PQG+k9rBIkxPT5f8/Hz9Qm+8txXHOEdHAiRAAmYhYO+d1KFmyaC78hEeHq4N0k1NTVokYJzGOToSIAESMDsBDjH1ooQxzGSxWKShoUGGDBnSizvohQRIgAT8nwAFohdlCIHA7KWKigrJyMjoxR30QgIkQAL+T4BDTL0ow7S0NMEQExyO6UiABEggEAhQIHpZyhERERISEtJL3/RGAiRAAv5PgALRyzL82te+1kuf9EYCJEAC5iDQRSC+cnaLOXLGXLiFwFsZl7glXAZKAiTgewRopPa9MmGKSIAESMAnCFAgfKIYmAgSIAES8D0CFAjfKxOmiARIgAR8ggAFwieKgYkgARIgAd8jQIHwvTJhikiABEjAJwhQIHyiGJgIEiABEvA9AhQI3ysTpogESIAEfIIABcInioGJIAESIAHfI9BloZzvJdF9KarNL5SCT3ZLU129jLjlWgkKpl66jzZDJgES8DcCASsQjdU18v7FN8qFBovEjh0uw29aJtU5eXLmrfdl/D1fE7xhiY4ESIAEAplAwDaZC7fs0eIwePkX5YpNqyQ4NFROr3pLTjz2d1FvBgrkOsG8kwAJBBgBvFEOf52d3/Ygzu85JFkvvysFH++SkMgISbt4pkz48dclIjlB57Ey84x89svH5fy+IxIUEixJMybKlAe+L/2GDpKcNzbKoV89of3lbfhYincelJjhGVK0bY8+9/7Cm2Tij+6QoLBQOfSbp2Xs926W6jN5kvXPdyR+zHCZ+ad7pfTAUTn822ckPD5GJvzkWzp+3Fx5MltOPvOqStdOiUhKkIxrr5CRt10nIVERkqkE6NSzr8mwFVerMG/RBbLj6/dKxfEsmfP4/ZI4bbyOn/9IgARIwJME7I2Y+GUPorGmVrau/IEUfPSpjL5zhQz+6iLJWf2uHPzlXzTT+uJS+XDpN6Twwx2SqoQjefYUKfhgm3x07Z1iqaqRGCUSSS0P45ih6ZJ+9UJJXTBDCYl1O+9BX1wo0UMGSnN9g9TmfC5ZL74lheqBHxIRLiU79sv+n/1RPnv4SYkakCJl+4/J3p880lqWe3/8OznzynsyQolC1MBUOfLrpyRv/cf6+rAVSyU4LESO/vEFqTqdK2f+tUEK3t8qKXOnUBxaCfKABEjAVwj4ZQ+i7lyxNNfUSeyUcTLsv5ZKWGw/GXD5Rerha83Oqedfl+bqWhl265dl2sM/0Kx3fOM+ObfhE8l5bb2Muv06GfzlRVKwabskKfGY9PNvaz+nnntNGpTBetLP79Q2iOrsz/X5+rIKWbJltZQdOikff+mbWngWvvOUJE2fIBvm3yB1Z/IFBu/QmH4y9IarZcStX1GitVj1JubrOM689YH+DoGZ9di98vGybylR+Z1UnMiRiAGpMuXBu3ylPjAdJEACJNBKwC97EP3UcFD0yCG6Nf/e1GWy5b/u1kNJGCaCKz+aqT+TZ07Sn/iXON06fFN5Krv1XG8PkmdN1r2LODW8BBekHvSJU8bq4/hxI/VndXaeFqqUedOltui8/OeOn8v+ex+1XlPDU4bDMNJoNWR1fsdBaTxfLjMf/Zm+z7jOTxIgARLwFQJ+2YPAeNllb/1VTjz1im7Nl2zfJ/jLVbaFy9Y+I81qZhJcSHRUK+eQyEh9fMHS2HqutwfhifHaK+wIcKGqx2IMRwUrsTBcfUmZbLr8ZglXdpDht3xZgsPVkNR/9huXWz+N9OFEY1V163kekAAJkIAvEfDLHoQGqNYsjP+f2+QL7/9Nluz8l8RPHiPlB48LhoViRgzWXs7vP9rKunT/EX3cb7j1WusFGwcXGptsnO351BklUNLULCO/dp1OW/LMifqmC83NrTeX7PpMMpURO/WyORLeP1n2/vQPAmGhIwESIAFfI+CXAlGqHvzrJi2V3fc8LOf3HpYqJQoWZZMQNVsJs5hgA1BGBMn6xxo5/eLbclRNXc1b97EER0fKsBu+aLcMotKS9bXMVW/qNRF2Pdq5EJmSqK8UKON4/sYtcvCB/ychcdFSl1+kjdKNtXUqzb/WQ1TTf/tjmfrQ3XqYaf/P/2gnRJ4mARIgAe8R8MshJozjT7jvO5Ktpp1+cq0yMIeHSsrsyTL5Z9+SsLgY/Tf3+V/Lgfv/LAdb7ACx40bItN/8UCJaHuK2kGNYCPccVtNj0YswBMOWX1vnBi65WFIvnSNFasbTHmWAhgDUlZTKYTWldtutP5YBX5inZ0Uh7dHp/fVfjjKu5yvxOrtms54SaytcniMBEiABbxAIUosjOqyO8Ld3Ulsqq/X00+DwMJv8GsoqlS0gVELb2SNsemw52VRbr48Me0N3fu1dQ5pCY6JbV2MjzCA1vRWL8fzd8Z3U7inBtWvX6nUxy5Ytc08EDJUEuiFgr/75/RMLU1y7c+EJsd1d7nLNGWEwAuucJleEaYTNTxIgARJwNQH0E2wtlvNLG4Sr4TA8EiABEghkAhCHToNJGgcFIpBrBfNOAiRAAt0QoEB0A4eXSIAESCCQCVAgArn0mXcSIAES6IYABaIbOLxEAiRAAoFMgAIRyKXPvJMACZBANwQoEN3A4SUSIAESCGQCFIhALn3mnQRIgAS6IdBloRxXytqmZW+loW3fPEsCJEAC/kMA6yCa220qaqScPQiDBD9JgARIIEAJcCV1gBY8s00CJEACjhJgD8JRcryPBEiABExOgAJh8gJm9kiABEjAUQIUCEfJ8T4SIAESMDkBCoTJC5jZIwESIAFHCVAgHCXH+0iABEjA5AQoECYvYGaPBEiABBwlQIFwlBzvIwESIAGTEOALg0xSkMwGCZAACbiaABfKuZoowyMBEiABkxPgEJPJC5jZIwESIAFHCVAgHCXH+0iABEjA5AQoECYvYGaPBEiABBwlQIFwlBzvIwESIAGTE6BAmLyAmT0SIAEScJQABcJRcryPBEiABExCgNNcTVKQzAYJkAAJuJoAF8o5QDQzM1P27dvX5U6cwzU6EnCGAOuXM/R4rycIcIipG8rJycly5MiRLj5wDtfoSMAZAqxfztDjvZ4gQIHohnJCQoK+WlZW1urLODautV7gAQn0kYBRh4w6hduNY+NaH4OkdxJwKQEKRA84Bw8eLLm5ua2+cIxzdCTgCgKsX66gyDDcRYAC0QNZ/oB7AMTLThFg/XIKH292MwEKRA+A09PTJT8/XzANDH84xjk6EnAFAdYvV1BkGO4iEOqugM0Sbnh4uDZINzU1aYGAYRHn6EjAFQRYv1xBkWE4SwDTXJubm7sEwx5EFyRdT2AYwGKxSENDgwwZMqSrB54hAScIsH45AY+3uoQAF8o5gRE/YMwuqaiokIyMDCdC4q0k0JUA61dXJjzjGwQ4xNSLckhLSxMMMcHhmI4EXEmA9cuVNBmWKwlQIHpJMyIiQkJCQnrpm95IoG8EWL/6xou+PUMgSI09XWgfVc3qke2/8pgEOhCIvtG1W4ywvnXAyy+dCLi6vnUKnl9bCKxdu1ZPwlm2bFkHJjRSd8DBLyRAAiRAAgYBCoRBgp8kQAIkQAIdCFAgOuDgFxIgARIIPALc7jvwypw5JgESIIFeEeA6iF5hoicSIAESIAGDAIeYDBL8JAESIAES6ECAAtEBB7+QAAmQAAkYBCgQBgl+kgAJkAAJdCBAgeiAg19IoHcE3v60Sn6/plQ+L2m0eUNz8wV9/amN5Tav4+TRsw3az+bPamz6geEQcTyxoe2NhjY98iQJuIkABcIGWPwoj6gfrytd5jmLPPyv83q1oivDZVjeIfDy1gp58NVSOVNssZmAJrVz8pPqwf73D+0LxKEz9TqMdXuqbYahNEZff+StUpvXeZIEXEWA01x7SXLHiTr9ozyS61qBePr9cvn1m2VKIHqZEHrzawJhoUFy+snhsuO33B7erwsyQBIfENNcaxua5ScvFcvEu7Ml5b9Py4Kf58o7u6pai/iFf1fI5HtyVKuuovXcPX8r0uf2nq4TDAfc8Ps8fe3Hq4rk60+ck4qaZn39q4/kyXuqpTfrx2ck9bbT8p1nCsTSaH3ar3g0X/vJL7UON2B4AfFcfr/1Xda495kPrHFO/eEZeW17ZWv8PPBvAnWWC3Lzn/Nl6Ley5HvPFkhOkbVH0dhkrQNXPHC2NYPHPm+Qy36RKwNvPy3Xq3qGutXe1an6e+fTBZJ+x2mZ99MzsvVoXfvL+ri4oklu/+s5GX5nlv77rooT9R7uLTXshXq36qMK+dPaMhnzvWxZ/MuzsnG/7R6Kvon/SKAbAqYaYrr1z+fk8fUVEh0RLLdfEScn8ixy42OFsn6f9QdSWtUkpwuapKy67YeJhzrO1TZckDGDwmRwapjGNXNkhMwfGy1har9bXN9ypE5+8PciuWJKtIQqaqs+qpa/brAOH+QWW8MwBAOygXuyCqyCcdlE6z0I+JrZMTKsJQ4dEf/5NYFfrC6RsqpmCVUb/f7tw2p59F2rvQA9RV0HCq2CgRYaRGFXpkWmDguX+OhgeeCVEp13o1P58Bul8tLH1RIRHiSXTYqWb6tGSGe3/A958uq2Glm5ME5uvjRONXaq5e7ni7Q3iBXi/Nvmcnn2gzIZkRYq2443yDf+WsChzc4g+b1XBEwjEAey62XdvjpJiQ2Snb8bLI/cmiJPfDNVQ3hU2RR6474wOVoWjIvSXldcHKdFJjQ4SH+vUSNO/7x7gPzuFhXut6zvhHi9lz2Bu5YmSHw/azi/ujFJ5oyO7E1y6McPCExTD/u196bLBw9YXyT1wQHbrXUMXWYVNktGcrBsuD9Dnv/uAFk8PbpDDv/5ibWX+fqPBspvbk6RR26x1l/D06cqjJ2nLDJ3VJg8vDJZ/u/GZLlodLis3lotaPxYa5ioXkyj7PvjUB3PtKGhUqKStD/LtUOmRpr4aW4CphGIwy02gzmjIgQGF7jZo6wPYswWcdaFqCCnDIvQwUxr+TzTMpzgbNi8338JLJraTyd+RP8wiVPVLaeoWTC81Nllq4c2HHoPhps5oq2hUK9a/wXl1vsmDLb6QS+2vTuRb63Hp/Itcul9ufoPkx9gzM5q6anA/8KJURKubCBw00dYwzh5zvnfgA6Q/wKKgGleGIQfGFy/yDbNi4qw/kgarC+Day3Y9j/g6tq24aZWDzYOItVvNqzlfUERYdZwMVOlvWts+V5V1+lCe088NhWBtPiWSqFyhfpWUddVHJDhhhZ7VXR4W/006lH76xi+NB7uxieuw1msGiMDk0Jl0TSrMFmviMRFtYWbFt/2s46KaEuf4ZefJNBbAm01qbd3+Ki/0QOttoPdmW2GvV0n63VqjWsDEqzZPZxrPQ+h2NHip3O2mtAsa+eq1S2nVGtt9MBwOZhjvT892RregAT8CC2CmU9oSW471paGdkHow0YlVrBr0AUWgUGJ1kI36g5yj4kRhotVD/ho1QjBUOZxZTubkBGurlvrmeFnqLIpwGGG1H3XJ+ljNEailc0iWA2F7s7s6F974D8S6AUBjLo0N3dt2LY1O3oRiC97mT82UqYMCdXjvHcpo92r2yrl3peLdZK/d3WC/vzCZKt94d1dNfKbN8/Ll3+bJ4kxVgQGmwGJ1hbXv5R9Ydepth8wTBHffaZQ3thRJfcrwyTctXNi9OeVLcMMD7xSLI+9W6rXO6AliNlMhjPE6ekPypXx2vbcecMvP81HYMG4SIlVoz3H85oEhu3H15fJOzut9gpj6vOXZlltEj94wVrPHlT1Cc6oRwvHR8lgZcPYn2WRP75TKpsO1sj472fLfDVbz+hBm48cc+QJAqaf5ooW1Cs/HChXTIqQ5zdXqqmARVKipgT+7pYkWbHA+iAfqFpxP/1KgkSpltojb5XJLGWjMB7ymAEC92X10B+SEqwN3j9Ss5YM1z8hSJZM7yfffLJQDp9tlMVTIuWuFuH58px+smxWlP7x/2VdmTYwJitjeW07HfjGoniJUp2cn7x0Xtbssm3INOLip/kIYGbdU3em6V7Co++Wyyo11fqhlSk6o/UWa8vtoRXJqucQKluONchdzxbKPdck6Tpj1CP0HFDHJ6mG0P2vlMp1j5wT2CteUpMn2g9XmY8ec+QtAqZ8JzVaUxXKtpAaZ3v81WhtdfejwqyQxJgQvdYh4dYs6R9vXfiEqaw1at55fHTXsDGvPU5NX7TnjPnqUe3Goe359dXzrn5HcKC9kxpDl6gnqFv2HNY6JMcGt062sOUPYWCo0p/rkq18dT7n6vrWOXx+txKw905qU46G48GfaliUbdSA7oTB8G7vB4xWXDwmvdtw3YkDvJv9x2wDCU91IhCierr26pbhNcVOw8a4js+e6lp7vzwmAUcJ2G/uOhqiCe9Li1OC04sfrQmzziyRAAkEMAFT9iBcWZ7oMWQ9NdyVQTIsEiABEvALAuxB+EUxMZEkQAIk4D4Cpp/F5D50DJkESIAEzE2A232bu3yZOxIgARJwOQEOMbkcKQMkARIgAXMQoECYoxyZCxIgARJwOQEKhMuRMkASIAESMAeBLtNcuXLRHAXrL7lgfbOW1Pr166Wmpkauu+46fyk6ptNEBBoaGiQysm37eSNr7EEYJPhJAl4kEBsbK3V1bZtDejEpjDoACdTX10u/fh23kAcGCkQAVgZm2fcIxMfHC1pxdCTgDQKoezEx1k1N28dPgWgOxg/qAAAHwklEQVRPg8ck4CUCCQkJ0tjY8kYgL6WB0QYuAYvFIujFdnYUiM5E+J0EvEAAAmHrhS1eSAqjDEACqHvoxXZ2FIjORPidBLxAAK23kJAQOXLkiBdiZ5SBTAA9V2y1kZiY2AUDBaILEp4gAe8QSEtLk2PHjnkncsYasAQOHDggEREREh6u3qTWyVEgOgHhVxLwFoEJEyZISYn1dbbeSgPjDTwC2dnZkpqaajPjFAibWHiSBDxPYNSoUdoOcfbsWc9HzhgDlsD58+dl9OjRNvNPgbCJhSdJwDsEMMy0fft270TOWAOOAHqsMFCPGTPGZt4pEDax8CQJeIfA4sWLpbS0VM6dO+edBDDWgCKwZ88em9NbDQgUCIMEP0nABwhgNWtGRob8+9//9oHUMAlmJoDZS1lZWTJv3jy72aRA2EXDCyTgHQJXXHGFVFZWCoyHdCTgLgKffPKJREVFyfDh9l+pTIFwF32GSwIOEsCmafjRfvjhh1w85yBD3tY9AdgdTp06JTNnzuzWIwWiWzy8SALeIQBbRGhoqLz55pveSQBjNTWBHTt26Po1ceLEbvNJgegWDy+SgPcIfOUrX9EGa9ojvFcGZowZkyA+++wzWbBgQY/Zo0D0iIgeSMA7BLC75uWXXy4nTpyQnJwc7ySCsZqOwDvvvCPp6ekyduzYHvNGgegRET2QgPcIYPHc3LlzZePGjZKXl+e9hDBmUxDYtGmT3jX46quv7lV+KBC9wkRPJOA9AtOnT9cLmdauXUuR8F4x+H3MWKGfmZkpS5YskeDg3j36e+fL79EwAyTg3wQuu+wyLRLvvvuuFBUV+XdmmHqPEygoKJB169bJ+PHj9Tqb3iYgSG3zeqG3numPBEjAuwQ++ugjbZO49NJLezWG7N3UMnZfIIDtNDAbDlOnr7zyyj4liQLRJ1z0TALeJ4ApitiiGfYJLKqjIwF7BMrKyuT111/XRune2h3ah0WBaE+DxyTgJwRgsMaQAWY6XX/99XpOu58kncn0EIHi4mLdc+jfv79ce+21DsVKgXAIG28iAe8TqKurkzfeeEPwuWjRIhkyZIj3E8UU+AQBvHgKw5FTp07tdq+lnhJLgeiJEK+TgI8TwNRFzE4ZMGCALF26lL0JHy8vdycPwnD8+HGZNWtWj1tp9JQWCkRPhHidBPyAAAyR69evl9raWrnoootk8uTJfpBqJtGVBLA765o1awQvAPriF7/Yp9lK9tJBgbBHhudJwA8JYH9//CUkJGgDdnJysh/mgknuK4GjR4/K1q1b9Xully9fLtHR0X0NwqZ/CoRNLDxJAv5LADaJ9957T2CkTElJ0UIBwaAzH4Gamhpd1thfacqUKbr36MpcUiBcSZNhkYAPEcBDY/PmzYLhJ8xkgSEbLySiMweBvXv3yq5duyQxMVHbntxRthQIc9QV5oIE7BLAymu8WwKCAaG4+OKLdc/C7g284NMEsBPr7t27pampSebPny8TJkxwW3opEG5Dy4BJwLcI4D3XGKdGjwKtzWnTpsmkSZN8K5FMjV0ChjDAGD1u3Di9XXdv91SyG2gPFygQPQDiZRIwGwHYKCAUeKUpdtoZPXq0HrvGm+zofI/A/v37BX8Wi8VjwmBQoEAYJPhJAgFIAFt2HDx4UKqrqyUuLk5v3zFjxgyupfByXcBw4Pbt2/XuvUFBQXqjRgwNurvH0DnbFIjORPidBAKQQGVlpTZ4njlzRurr67VYYGwbK3HpPEcAw0gQbQg2Zp4ZW717LgUdY6JAdOTBbyQQ8ARgo8DsmM8//1y/XCY2NlZv4wGxwDGd6wg0Nzfr13/irYHoNaCHMGLECD3k56q1DM6klgLhDD3eSwImJ4C1FBiCglhgzn1oaKieCQUjKXaTpes7ARiZYVM4deqUlJeXS1hYmN4mBesYMjIy+h6gG++gQLgRLoMmATMRwIMNK3ZPnjypt3PA96ioKMFqbWwUOGbMGKGhu2uJNzQ06L2RsrKy9AwyDOGBE94LjSEkLGb0VUeB8NWSYbpIwMcJYJwcu4bCboHhEcyyCQkJ0WPnqampMnDgQBk2bJje/sHHs+LS5GGIDjPEsCU7emAQCPS8kpKS9Et70PvyFyGlQLi0ajAwEghcAuhRYFdZtJSxYRyGpLCYC7NwMJ4OoytEA4v1sPMsHpr+7JBfrC3JycmRwsJCqaio0FuvI08QgPj4eC2Q/iQIncuDAtGZCL+TAAm4jACMsLm5ufoPK7ox5o4WNdZfQDgw/o6HKYzf2DICrWw8WCEm3jbSIu3oGSHNEAAcQwQgfOgtIQ8wKmOYzRA/9JjMtEEiBcJlPwUGRAIk0FsCePjioQvRwJAMHr7YqhyL+NAyx8MXDg9g/EFIIiIi9CeGsfA9PDxc/+E8/nAeomP8GWkxHuR4qCN8fBp/iMs4D+HCMXo9+INDWIgfIgbBgnhBxNATSktL09eMeMz4SYEwY6kyTyRgAgJ4mOOdyhAPrNOAzQMG3vYPdzzgITZ4oOMTzuidGAiM78bDHkJiiA6OMdQFAcD2I+jJGL0ZiEGgOwpEoNcA5p8ESIAE7BAItnOep0mABEiABAKcAAUiwCsAs08CJEAC9ghQIOyR4XkSIAESCHACFIgArwDMPgmQAAnYI0CBsEeG50mABEggwAn8fyzAKKAqj1srAAAAAElFTkSuQmCC)"
      ]
    },
    {
      "cell_type": "markdown",
      "metadata": {
        "id": "ASQhq96TKGue"
      },
      "source": [
        "as presented above, creating a recurrent neural network in Torch involved cloning the parameters of a layer over several timesteps. "
      ]
    },
    {
      "cell_type": "code",
      "metadata": {
        "id": "CayzFDjPO-hZ"
      },
      "source": [
        "# Creating the Network\n",
        "import torch.nn as nn\n",
        "\n",
        "class RNN(nn.Module):\n",
        "  def __init__(self, input_size, hidden_size, output_size):\n",
        "    super(RNN, self).__init__()\n",
        "\n",
        "    self.hidden_size = hidden_size\n",
        "    self.i2h = nn.Linear(input_size + hidden_size, hidden_size)\n",
        "    self.i2o = nn.Linear(input_size + hidden_size, output_size)\n",
        "    self.softmax = nn.LogSoftmax(dim=1)\n",
        "\n",
        "  def forward(self, input, hidden):\n",
        "    combined = torch.cat((input, hidden), 1)\n",
        "    hidden = self.i2h(combined)\n",
        "    output = self.i2o(combined)\n",
        "    output = self.softmax(output)\n",
        "    return output, hidden\n",
        "\n",
        "  def initHidden(self):\n",
        "    return torch.zeros(1, self.hidden_size)  \n",
        "    \n",
        "n_hidden = 128\n",
        "rnn = RNN(n_letters, n_hidden, gathered_dataset['number_of_category'])    "
      ],
      "execution_count": null,
      "outputs": []
    },
    {
      "cell_type": "markdown",
      "metadata": {
        "id": "scB0k105KjJC"
      },
      "source": [
        "To run a step of this network we need to pass an input (in our case, the Tensor for the current letter) and a previous hidden state (which we initialize as zeros at first)."
      ]
    },
    {
      "cell_type": "code",
      "metadata": {
        "id": "ncxSHfc_UIbE",
        "colab": {
          "base_uri": "https://localhost:8080/"
        },
        "outputId": "bdfcdbea-5256-484b-f034-64e606a4671a"
      },
      "source": [
        "input = lineToTensor('garavshakh')\n",
        "hidden = torch.zeros(1, n_hidden)\n",
        "output, next_hidden = rnn(input[0], hidden)\n",
        "print(output) # ouput is <1 x number of category>"
      ],
      "execution_count": null,
      "outputs": [
        {
          "output_type": "stream",
          "text": [
            "tensor([[-2.5705, -2.3987, -2.3958, -1.5858, -2.1036, -2.1805, -2.5392, -2.2143,\n",
            "         -2.1750]], grad_fn=<LogSoftmaxBackward>)\n"
          ],
          "name": "stdout"
        }
      ]
    },
    {
      "cell_type": "markdown",
      "metadata": {
        "id": "BhdHUcsGK68L"
      },
      "source": [
        "As you can see the output is a <1 x n_categories> Tensor, where every item is the likelihood of that category (higher is more likely)."
      ]
    },
    {
      "cell_type": "markdown",
      "metadata": {
        "id": "BTh0uqeeUryw"
      },
      "source": [
        "**Training**"
      ]
    },
    {
      "cell_type": "code",
      "metadata": {
        "id": "hnRHjsaoU_3b",
        "colab": {
          "base_uri": "https://localhost:8080/"
        },
        "outputId": "336e8de3-332d-484f-cee1-31ea5b81c9ab"
      },
      "source": [
        "def categoryFromOutput(output):\n",
        "    top_n, top_i = output.topk(1)\n",
        "    category_i = top_i[0].item()\n",
        "    return all_categories[category_i], category_i\n",
        "\n",
        "categoryFromOutput(output)\n",
        "# print(categoryFromOutput(output))"
      ],
      "execution_count": null,
      "outputs": [
        {
          "output_type": "execute_result",
          "data": {
            "text/plain": [
              "('cn', 3)"
            ]
          },
          "metadata": {
            "tags": []
          },
          "execution_count": 336
        }
      ]
    },
    {
      "cell_type": "code",
      "metadata": {
        "id": "0gba2R80WNap",
        "colab": {
          "base_uri": "https://localhost:8080/"
        },
        "outputId": "408637ca-49ab-4ff0-b3f8-26cf8b1ff641"
      },
      "source": [
        "import random\n",
        "\n",
        "def randomChoice(l):\n",
        "  return l[random.randint(0, len(l) - 1)]\n",
        "\n",
        "def randomTrainingExample():\n",
        "  category = randomChoice(all_categories)\n",
        "  line = randomChoice(category_lines[category])\n",
        "  category_tensor = torch.tensor([all_categories.index(category)], dtype=torch.long)\n",
        "  line_tensor = lineToTensor(line)\n",
        "  return category, line, category_tensor, line_tensor\n",
        "\n",
        "for i in range(10):\n",
        "    category, line, category_tensor, line_tensor = randomTrainingExample()\n",
        "    print('category =', category, '/ line =', line)"
      ],
      "execution_count": null,
      "outputs": [
        {
          "output_type": "stream",
          "text": [
            "category = in / line = ludwinow\n",
            "category = ir / line = qaleh kirishki\n",
            "category = fr / line = erloy\n",
            "category = ir / line = irkhsirmykoshki\n",
            "category = pk / line = khewas\n",
            "category = za / line = elandsdoorn\n",
            "category = de / line = sambandete\n",
            "category = fr / line = albe\n",
            "category = af / line = abresminkhel\n",
            "category = fi / line = lafiteau\n"
          ],
          "name": "stdout"
        }
      ]
    },
    {
      "cell_type": "markdown",
      "metadata": {
        "id": "fwNX9RdmXlUV"
      },
      "source": [
        "Training the Network: \n",
        "\n",
        "Now all it takes to train this network is show it a bunch of examples, have it make guesses, and tell it if it’s wrong.\n",
        "\n",
        "For the loss function nn.NLLLoss is appropriate, since the last layer of the RNN is nn.LogSoftmax."
      ]
    },
    {
      "cell_type": "code",
      "metadata": {
        "id": "IIw4kLXyXmfc"
      },
      "source": [
        "criterion = nn.NLLLoss()"
      ],
      "execution_count": null,
      "outputs": []
    },
    {
      "cell_type": "code",
      "metadata": {
        "id": "H24NshPSX8wD"
      },
      "source": [
        "# learning_rate = 0.0005 # If you set this too high, it might explode. If too low, it might not learn\n",
        "\n",
        "def train(category_tensor, line_tensor, learning_rate):\n",
        "    hidden = rnn.initHidden()\n",
        "\n",
        "    rnn.zero_grad()\n",
        "\n",
        "    for i in range(line_tensor.size()[0]):\n",
        "        output, hidden = rnn(line_tensor[i], hidden)\n",
        "\n",
        "    loss = criterion(output, category_tensor)\n",
        "    loss.backward()\n",
        "\n",
        "    # Add parameters' gradients to their values, multiplied by learning rate\n",
        "    for p in rnn.parameters():\n",
        "        p.data.add_(p.grad.data, alpha=-learning_rate)\n",
        "\n",
        "    return output, loss.item()"
      ],
      "execution_count": null,
      "outputs": []
    },
    {
      "cell_type": "markdown",
      "metadata": {
        "id": "WUsAoBCgOaVt"
      },
      "source": [
        "Now we just have to run that with a bunch of examples. Since the train function returns both the output and loss we can print its guesses and also keep track of loss for plotting. Since there are 1000s of examples we print only every print_every examples, and take an average of the loss."
      ]
    },
    {
      "cell_type": "code",
      "metadata": {
        "id": "dzV2kI2fYb61"
      },
      "source": [
        "import time\n",
        "import math\n",
        "\n",
        "n_iters = 100000\n",
        "print_every = 5000\n",
        "plot_every = 1000\n",
        "\n",
        "def timeSince(since):\n",
        "    now = time.time()\n",
        "    s = now - since\n",
        "    m = math.floor(s / 60)\n",
        "    s -= m * 60\n",
        "    return '%dm %ds' % (m, s)\n",
        "\n",
        "\n",
        "def train_with_loss(learning_rate):\n",
        "  print('learining rate = %.4f' % (learning_rate))\n",
        "  print('----------------------')\n",
        "  # Keep track of losses for plotting\n",
        "  current_loss = 0\n",
        "  all_losses = []\n",
        "  correct_guess = 0\n",
        "  start = time.time()\n",
        "  for iter in range(1, n_iters + 1):\n",
        "      category, line, category_tensor, line_tensor = randomTrainingExample()\n",
        "      output, loss = train(category_tensor, line_tensor,learning_rate)\n",
        "      current_loss += loss\n",
        "\n",
        "      # Print iter number, loss, name and guess\n",
        "      if iter % print_every == 0:\n",
        "          guess, guess_i = categoryFromOutput(output)\n",
        "          if guess == category:\n",
        "            correct = '✓' \n",
        "            correct_guess +=1\n",
        "          else:\n",
        "            correct =  '✗ (%s)' % category\n",
        "\n",
        "          print('%d %d%% (%s) %.4f %s / %s %s' % (iter, iter / n_iters * 100, timeSince(start), loss, line, guess, correct))\n",
        "\n",
        "      # Add current loss avg to list of losses\n",
        "      if iter % plot_every == 0:\n",
        "          all_losses.append(current_loss / plot_every)\n",
        "          current_loss = 0\n",
        "  print(' ------------------')        \n",
        "  print('|correct guess: %d|' %(correct_guess))\n",
        "  print(' ------------------\\n')        \n",
        "  return all_losses\n",
        "  "
      ],
      "execution_count": null,
      "outputs": []
    },
    {
      "cell_type": "markdown",
      "metadata": {
        "id": "588OjiFfgqdw"
      },
      "source": [
        "As Sean Roberton mention in his article, 'If you set the learning rate too high, it might explode. If too low, it might not learn', we're going to train our model in a different learning rate and plot the result of the loss function for each model so we can pick the best learning rate for our model. although it's not the best way, but we want to see the result in visual."
      ]
    },
    {
      "cell_type": "code",
      "metadata": {
        "colab": {
          "base_uri": "https://localhost:8080/"
        },
        "id": "sw_jo3ome_Z5",
        "outputId": "612ba070-71d3-4d9e-8951-a67d59f13dc5"
      },
      "source": [
        "learning_rate = 0.001\n",
        "all_lossess = train_with_loss(learning_rate)\n"
      ],
      "execution_count": null,
      "outputs": [
        {
          "output_type": "stream",
          "text": [
            "learining rate = 0.001000\n",
            "----------------------\n",
            "5000 5% (0m 11s) 2.0943 dahane mulla ala / af ✓\n",
            "10000 10% (0m 28s) 2.1872 abbasieh / de ✗ (ir)\n",
            "15000 15% (0m 40s) 1.9830 san michele in teverina / in ✓\n",
            "20000 20% (0m 51s) 2.3880 gandzhal'beg / cn ✗ (af)\n",
            "25000 25% (1m 3s) 1.6055 mirzagul'mukhammed / af ✓\n",
            "30000 30% (1m 15s) 1.9065 winklerdorfl / fr ✗ (in)\n",
            "35000 35% (1m 27s) 1.9001 oudetonge / fr ✗ (de)\n",
            "40000 40% (1m 39s) 2.4342 minehye olya / fi ✗ (in)\n",
            "45000 45% (1m 51s) 2.5502 dzhuturkhuna / in ✗ (af)\n",
            "50000 50% (2m 3s) 1.5963 pourrain / de ✗ (fr)\n",
            "55000 55% (2m 15s) 1.0422 sultan shah jaffar / pk ✓\n",
            "60000 60% (2m 26s) 0.1139 azzate / za ✓\n",
            "65000 65% (2m 38s) 1.1532 le reynaldes / de ✗ (fr)\n",
            "70000 70% (2m 50s) 1.2154 tut shah / af ✓\n",
            "75000 75% (3m 2s) 1.6268 angelniemi / fr ✗ (fi)\n",
            "80000 80% (3m 14s) 1.0951 frettenheim / fr ✓\n",
            "85000 85% (3m 26s) 0.1976 ojo de agua de ballesteros / de ✓\n",
            "90000 90% (3m 38s) 0.5559 bozalganly / za ✓\n",
            "95000 95% (3m 50s) 1.0439 eislingenfils / in ✗ (fi)\n",
            "100000 100% (4m 1s) 1.3267 ruppers / fr ✗ (de)\n",
            " ------------------\n",
            "|correct guess: 9|\n",
            " ------------------\n",
            "\n"
          ],
          "name": "stdout"
        }
      ]
    },
    {
      "cell_type": "markdown",
      "metadata": {
        "id": "OGZ31kKpczeu"
      },
      "source": [
        "**Plotting the Results**\n",
        "\n",
        "\n",
        "\n",
        "\n",
        "Plotting the historical loss from all_losses shows the network learning:"
      ]
    },
    {
      "cell_type": "code",
      "metadata": {
        "id": "vQciNAVrmWkp",
        "colab": {
          "base_uri": "https://localhost:8080/",
          "height": 282
        },
        "outputId": "4981a7ae-cdb4-4912-9aac-c100f54baaf3"
      },
      "source": [
        "import matplotlib.pyplot as plt\n",
        "import matplotlib.ticker as ticker\n",
        "\n",
        "plt.figure()\n",
        "plt.plot(all_lossess)"
      ],
      "execution_count": null,
      "outputs": [
        {
          "output_type": "execute_result",
          "data": {
            "text/plain": [
              "[<matplotlib.lines.Line2D at 0x7fe511abd940>]"
            ]
          },
          "metadata": {
            "tags": []
          },
          "execution_count": 332
        },
        {
          "output_type": "display_data",
          "data": {
            "image/png": "[encoded data removed]",
            "text/plain": [
              "<Figure size 432x288 with 1 Axes>"
            ]
          },
          "metadata": {
            "tags": [],
            "needs_background": "light"
          }
        }
      ]
    },
    {
      "cell_type": "markdown",
      "metadata": {
        "id": "6cKdrz6lOiAO"
      },
      "source": [
        "**Evaluating the Results**"
      ]
    },
    {
      "cell_type": "code",
      "metadata": {
        "id": "AS5KX-InxbMY",
        "colab": {
          "base_uri": "https://localhost:8080/",
          "height": 271
        },
        "outputId": "c39e73e7-a8c9-4b33-aa9a-99c0c54958cc"
      },
      "source": [
        "# Keep track of correct guesses in a confusion matrix\n",
        "confusion = torch.zeros((gathered_dataset['number_of_category']), (gathered_dataset['number_of_category']))\n",
        "n_confusion = 10000\n",
        "\n",
        "# Just return an output given a line\n",
        "def evaluate(line_tensor):\n",
        "    hidden = rnn.initHidden()\n",
        "\n",
        "    for i in range(line_tensor.size()[0]):\n",
        "        output, hidden = rnn(line_tensor[i], hidden)\n",
        "\n",
        "    return output\n",
        "\n",
        "# Go through a bunch of examples and record which are correctly guessed\n",
        "for i in range(n_confusion):\n",
        "    category, line, category_tensor, line_tensor = randomTrainingExample()\n",
        "    output = evaluate(line_tensor)\n",
        "    guess, guess_i = categoryFromOutput(output)\n",
        "    category_i = all_categories.index(category)\n",
        "    confusion[category_i][guess_i] += 1\n",
        "\n",
        "# Normalize by dividing every row by its sum\n",
        "for i in range((gathered_dataset['number_of_category'])):\n",
        "    confusion[i] = confusion[i] / confusion[i].sum()\n",
        "\n",
        "# Set up plot\n",
        "fig = plt.figure()\n",
        "ax = fig.add_subplot(111)\n",
        "cax = ax.matshow(confusion.numpy())\n",
        "fig.colorbar(cax)\n",
        "\n",
        "# Set up axes\n",
        "ax.set_xticklabels([''] + all_categories, rotation=90)\n",
        "ax.set_yticklabels([''] + all_categories)\n",
        "\n",
        "# Force label at every tick\n",
        "ax.xaxis.set_major_locator(ticker.MultipleLocator(1))\n",
        "ax.yaxis.set_major_locator(ticker.MultipleLocator(1))\n",
        "\n",
        "# sphinx_gallery_thumbnail_number = 2\n",
        "plt.show()"
      ],
      "execution_count": null,
      "outputs": [
        {
          "output_type": "display_data",
          "data": {
            "image/png": "[encoded data removed]",
            "text/plain": [
              "<Figure size 432x288 with 2 Axes>"
            ]
          },
          "metadata": {
            "tags": [],
            "needs_background": "light"
          }
        }
      ]
    },
    {
      "cell_type": "code",
      "metadata": {
        "id": "Ztc7FKnlyQV0",
        "colab": {
          "base_uri": "https://localhost:8080/"
        },
        "outputId": "17b691ee-875e-4281-cc20-f13230d48bdb"
      },
      "source": [
        "def predict(input_line, n_predictions=3):\n",
        "    print('\\n> %s' % input_line)\n",
        "    with torch.no_grad():\n",
        "        output = evaluate(lineToTensor(input_line))\n",
        "\n",
        "        # Get top N categories\n",
        "        topv, topi = output.topk(n_predictions, 1, True)\n",
        "        predictions = []\n",
        "\n",
        "        for i in range(n_predictions):\n",
        "            value = topv[0][i].item()\n",
        "            category_index = topi[0][i].item()\n",
        "            print('(%.2f) %s' % (value, all_categories[category_index]))\n",
        "            predictions.append([value, all_categories[category_index]])\n",
        "\n",
        "predict('najibollah khan kalay') #af\n",
        "predict('bertramesnil ') # fr\n",
        "predict('fridrovtsy') #fr"
      ],
      "execution_count": null,
      "outputs": [
        {
          "output_type": "stream",
          "text": [
            "\n",
            "> najibollah khan kalay\n",
            "(-0.75) pk\n",
            "(-1.14) af\n",
            "(-1.70) ir\n",
            "\n",
            "> bertramesnil \n",
            "(-0.86) de\n",
            "(-1.20) fr\n",
            "(-2.36) ir\n",
            "\n",
            "> fridrovtsy\n",
            "(-0.66) fr\n",
            "(-1.95) fi\n",
            "(-1.96) de\n"
          ],
          "name": "stdout"
        }
      ]
    }
  ]
}